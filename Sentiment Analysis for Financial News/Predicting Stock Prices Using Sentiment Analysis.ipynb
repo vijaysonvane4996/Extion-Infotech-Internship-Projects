{
 "cells": [
  {
   "cell_type": "markdown",
   "id": "da9be990-2978-410f-93f5-ce6619d371eb",
   "metadata": {},
   "source": [
    "## Business Case :- Predicting Stock Prices Using Sentiment Analysis"
   ]
  },
  {
   "cell_type": "markdown",
   "id": "fbf9859e-bc1d-4641-a821-92f8ec9e2679",
   "metadata": {},
   "source": [
    "***Task :-*** Predict stock prices by analyzing sentiment from financial news and social media."
   ]
  },
  {
   "cell_type": "markdown",
   "id": "ac1dd860-1451-4e31-8806-925297c7bd08",
   "metadata": {},
   "source": [
    "***Short Description:-*** Combine financial data with sentiment analysis of news articles and social media posts to predict stock price movements.\n",
    "- Use NLP techniques to preprocess text data and extract sentiment.\n",
    "- Combine sentiment scores with historical stock data to train predictive models.\n",
    "- Evaluate the model’s performance and optimize for different market conditions."
   ]
  },
  {
   "cell_type": "code",
   "execution_count": 1,
   "id": "794d85a5-84a6-4dde-a7f8-3965f0c5c9f4",
   "metadata": {},
   "outputs": [],
   "source": [
    "import pandas as pd\n",
    "import numpy as np\n",
    "import seaborn as sns\n",
    "from sklearn.model_selection import train_test_split\n",
    "from sklearn.feature_extraction.text import CountVectorizer,TfidfVectorizer\n",
    "from sklearn.naive_bayes import MultinomialNB\n",
    "from sklearn.metrics import accuracy_score\n",
    "import string\n",
    "import matplotlib.pyplot as plt\n",
    "%matplotlib inline\n",
    "import warnings\n",
    "warnings.filterwarnings('ignore')"
   ]
  },
  {
   "cell_type": "code",
   "execution_count": 2,
   "id": "3cf51f76-6e54-42c9-8539-f835d4880cb0",
   "metadata": {},
   "outputs": [
    {
     "data": {
      "text/html": [
       "<div>\n",
       "<style scoped>\n",
       "    .dataframe tbody tr th:only-of-type {\n",
       "        vertical-align: middle;\n",
       "    }\n",
       "\n",
       "    .dataframe tbody tr th {\n",
       "        vertical-align: top;\n",
       "    }\n",
       "\n",
       "    .dataframe thead th {\n",
       "        text-align: right;\n",
       "    }\n",
       "</style>\n",
       "<table border=\"1\" class=\"dataframe\">\n",
       "  <thead>\n",
       "    <tr style=\"text-align: right;\">\n",
       "      <th></th>\n",
       "      <th>neutral</th>\n",
       "      <th>According to Gran , the company has no plans to move all production to Russia , although that is where the company is growing .</th>\n",
       "    </tr>\n",
       "  </thead>\n",
       "  <tbody>\n",
       "    <tr>\n",
       "      <th>0</th>\n",
       "      <td>neutral</td>\n",
       "      <td>Technopolis plans to develop in stages an area...</td>\n",
       "    </tr>\n",
       "    <tr>\n",
       "      <th>1</th>\n",
       "      <td>negative</td>\n",
       "      <td>The international electronic industry company ...</td>\n",
       "    </tr>\n",
       "    <tr>\n",
       "      <th>2</th>\n",
       "      <td>positive</td>\n",
       "      <td>With the new production plant the company woul...</td>\n",
       "    </tr>\n",
       "    <tr>\n",
       "      <th>3</th>\n",
       "      <td>positive</td>\n",
       "      <td>According to the company 's updated strategy f...</td>\n",
       "    </tr>\n",
       "    <tr>\n",
       "      <th>4</th>\n",
       "      <td>positive</td>\n",
       "      <td>FINANCING OF ASPOCOMP 'S GROWTH Aspocomp is ag...</td>\n",
       "    </tr>\n",
       "    <tr>\n",
       "      <th>...</th>\n",
       "      <td>...</td>\n",
       "      <td>...</td>\n",
       "    </tr>\n",
       "    <tr>\n",
       "      <th>4840</th>\n",
       "      <td>negative</td>\n",
       "      <td>LONDON MarketWatch -- Share prices ended lower...</td>\n",
       "    </tr>\n",
       "    <tr>\n",
       "      <th>4841</th>\n",
       "      <td>neutral</td>\n",
       "      <td>Rinkuskiai 's beer sales fell by 6.5 per cent ...</td>\n",
       "    </tr>\n",
       "    <tr>\n",
       "      <th>4842</th>\n",
       "      <td>negative</td>\n",
       "      <td>Operating profit fell to EUR 35.4 mn from EUR ...</td>\n",
       "    </tr>\n",
       "    <tr>\n",
       "      <th>4843</th>\n",
       "      <td>negative</td>\n",
       "      <td>Net sales of the Paper segment decreased to EU...</td>\n",
       "    </tr>\n",
       "    <tr>\n",
       "      <th>4844</th>\n",
       "      <td>negative</td>\n",
       "      <td>Sales in Finland decreased by 10.5 % in Januar...</td>\n",
       "    </tr>\n",
       "  </tbody>\n",
       "</table>\n",
       "<p>4845 rows × 2 columns</p>\n",
       "</div>"
      ],
      "text/plain": [
       "       neutral  \\\n",
       "0      neutral   \n",
       "1     negative   \n",
       "2     positive   \n",
       "3     positive   \n",
       "4     positive   \n",
       "...        ...   \n",
       "4840  negative   \n",
       "4841   neutral   \n",
       "4842  negative   \n",
       "4843  negative   \n",
       "4844  negative   \n",
       "\n",
       "     According to Gran , the company has no plans to move all production to Russia , although that is where the company is growing .  \n",
       "0     Technopolis plans to develop in stages an area...                                                                               \n",
       "1     The international electronic industry company ...                                                                               \n",
       "2     With the new production plant the company woul...                                                                               \n",
       "3     According to the company 's updated strategy f...                                                                               \n",
       "4     FINANCING OF ASPOCOMP 'S GROWTH Aspocomp is ag...                                                                               \n",
       "...                                                 ...                                                                               \n",
       "4840  LONDON MarketWatch -- Share prices ended lower...                                                                               \n",
       "4841  Rinkuskiai 's beer sales fell by 6.5 per cent ...                                                                               \n",
       "4842  Operating profit fell to EUR 35.4 mn from EUR ...                                                                               \n",
       "4843  Net sales of the Paper segment decreased to EU...                                                                               \n",
       "4844  Sales in Finland decreased by 10.5 % in Januar...                                                                               \n",
       "\n",
       "[4845 rows x 2 columns]"
      ]
     },
     "execution_count": 2,
     "metadata": {},
     "output_type": "execute_result"
    }
   ],
   "source": [
    "data = pd.read_csv('all-data.csv', encoding='latin1')\n",
    "data"
   ]
  },
  {
   "cell_type": "code",
   "execution_count": 3,
   "id": "1f1ed375-3919-4c66-b3eb-3f59ff76367b",
   "metadata": {},
   "outputs": [
    {
     "data": {
      "text/plain": [
       "Index(['neutral', 'According to Gran , the company has no plans to move all production to Russia , although that is where the company is growing .'], dtype='object')"
      ]
     },
     "execution_count": 3,
     "metadata": {},
     "output_type": "execute_result"
    }
   ],
   "source": [
    "data.columns"
   ]
  },
  {
   "cell_type": "code",
   "execution_count": 4,
   "id": "f948df23-0f0e-45f5-a5db-8ba450b0c7dc",
   "metadata": {},
   "outputs": [],
   "source": [
    "## rename the column\n",
    "data.rename(columns = {'neutral':'Class',\"According to Gran , the company has no plans to move all production to Russia , although that is where the company is growing .\":'Message'},\n",
    "            inplace=True)"
   ]
  },
  {
   "cell_type": "code",
   "execution_count": 5,
   "id": "d36354f5-672a-4db7-a141-3bf0c256756d",
   "metadata": {},
   "outputs": [],
   "source": [
    "# Split the sentiment and the text into separate columns\n",
    "# data=data['Message'].str.split(',', n=1, expand=True,)"
   ]
  },
  {
   "cell_type": "code",
   "execution_count": 6,
   "id": "c83fead3-3c3e-4f53-a078-82a596b5fe91",
   "metadata": {},
   "outputs": [
    {
     "data": {
      "text/plain": [
       "array(['neutral', 'negative', 'positive'], dtype=object)"
      ]
     },
     "execution_count": 6,
     "metadata": {},
     "output_type": "execute_result"
    }
   ],
   "source": [
    "data.Class.unique()"
   ]
  },
  {
   "cell_type": "markdown",
   "id": "34c646a1-91f3-466d-97ca-dbfd7a77f694",
   "metadata": {},
   "source": [
    "## Basic Check "
   ]
  },
  {
   "cell_type": "code",
   "execution_count": 7,
   "id": "79876e1a-a053-43d2-a713-c4332622c458",
   "metadata": {},
   "outputs": [
    {
     "data": {
      "text/plain": [
       "(4845, 2)"
      ]
     },
     "execution_count": 7,
     "metadata": {},
     "output_type": "execute_result"
    }
   ],
   "source": [
    "data.shape"
   ]
  },
  {
   "cell_type": "code",
   "execution_count": 8,
   "id": "598d9399-a198-497f-be02-066c5f898faf",
   "metadata": {},
   "outputs": [
    {
     "data": {
      "text/plain": [
       "Index(['Class', 'Message'], dtype='object')"
      ]
     },
     "execution_count": 8,
     "metadata": {},
     "output_type": "execute_result"
    }
   ],
   "source": [
    "data.columns"
   ]
  },
  {
   "cell_type": "code",
   "execution_count": 9,
   "id": "4461d6d5-89ac-4fce-afc7-e8324e4e0d5f",
   "metadata": {},
   "outputs": [
    {
     "data": {
      "text/plain": [
       "Class      0\n",
       "Message    0\n",
       "dtype: int64"
      ]
     },
     "execution_count": 9,
     "metadata": {},
     "output_type": "execute_result"
    }
   ],
   "source": [
    "data.isnull().sum()"
   ]
  },
  {
   "cell_type": "code",
   "execution_count": 10,
   "id": "384109b8-f85d-4d71-b720-75ed3d336d18",
   "metadata": {},
   "outputs": [
    {
     "data": {
      "text/plain": [
       "6"
      ]
     },
     "execution_count": 10,
     "metadata": {},
     "output_type": "execute_result"
    }
   ],
   "source": [
    "data.duplicated().sum()"
   ]
  },
  {
   "cell_type": "code",
   "execution_count": 11,
   "id": "e0cb90f3-34f2-4670-893c-add093650131",
   "metadata": {},
   "outputs": [],
   "source": [
    "data.drop_duplicates(inplace=True)"
   ]
  },
  {
   "cell_type": "code",
   "execution_count": 12,
   "id": "eeeb1c5e-4bc6-4cb2-b612-6e1aa185cb28",
   "metadata": {},
   "outputs": [
    {
     "data": {
      "text/plain": [
       "0"
      ]
     },
     "execution_count": 12,
     "metadata": {},
     "output_type": "execute_result"
    }
   ],
   "source": [
    "data.duplicated().sum()"
   ]
  },
  {
   "cell_type": "code",
   "execution_count": 13,
   "id": "7a517d32-b932-4d1a-b9da-553aa19bac4d",
   "metadata": {},
   "outputs": [
    {
     "name": "stdout",
     "output_type": "stream",
     "text": [
      "<class 'pandas.core.frame.DataFrame'>\n",
      "Index: 4839 entries, 0 to 4844\n",
      "Data columns (total 2 columns):\n",
      " #   Column   Non-Null Count  Dtype \n",
      "---  ------   --------------  ----- \n",
      " 0   Class    4839 non-null   object\n",
      " 1   Message  4839 non-null   object\n",
      "dtypes: object(2)\n",
      "memory usage: 113.4+ KB\n"
     ]
    }
   ],
   "source": [
    "data.info()"
   ]
  },
  {
   "cell_type": "code",
   "execution_count": 14,
   "id": "92d163c4-79b0-45e6-94cb-933edbc4db51",
   "metadata": {},
   "outputs": [
    {
     "data": {
      "text/html": [
       "<div>\n",
       "<style scoped>\n",
       "    .dataframe tbody tr th:only-of-type {\n",
       "        vertical-align: middle;\n",
       "    }\n",
       "\n",
       "    .dataframe tbody tr th {\n",
       "        vertical-align: top;\n",
       "    }\n",
       "\n",
       "    .dataframe thead th {\n",
       "        text-align: right;\n",
       "    }\n",
       "</style>\n",
       "<table border=\"1\" class=\"dataframe\">\n",
       "  <thead>\n",
       "    <tr style=\"text-align: right;\">\n",
       "      <th></th>\n",
       "      <th>Class</th>\n",
       "      <th>Message</th>\n",
       "    </tr>\n",
       "  </thead>\n",
       "  <tbody>\n",
       "    <tr>\n",
       "      <th>0</th>\n",
       "      <td>neutral</td>\n",
       "      <td>Technopolis plans to develop in stages an area...</td>\n",
       "    </tr>\n",
       "    <tr>\n",
       "      <th>1</th>\n",
       "      <td>negative</td>\n",
       "      <td>The international electronic industry company ...</td>\n",
       "    </tr>\n",
       "    <tr>\n",
       "      <th>2</th>\n",
       "      <td>positive</td>\n",
       "      <td>With the new production plant the company woul...</td>\n",
       "    </tr>\n",
       "    <tr>\n",
       "      <th>3</th>\n",
       "      <td>positive</td>\n",
       "      <td>According to the company 's updated strategy f...</td>\n",
       "    </tr>\n",
       "    <tr>\n",
       "      <th>4</th>\n",
       "      <td>positive</td>\n",
       "      <td>FINANCING OF ASPOCOMP 'S GROWTH Aspocomp is ag...</td>\n",
       "    </tr>\n",
       "  </tbody>\n",
       "</table>\n",
       "</div>"
      ],
      "text/plain": [
       "      Class                                            Message\n",
       "0   neutral  Technopolis plans to develop in stages an area...\n",
       "1  negative  The international electronic industry company ...\n",
       "2  positive  With the new production plant the company woul...\n",
       "3  positive  According to the company 's updated strategy f...\n",
       "4  positive  FINANCING OF ASPOCOMP 'S GROWTH Aspocomp is ag..."
      ]
     },
     "execution_count": 14,
     "metadata": {},
     "output_type": "execute_result"
    }
   ],
   "source": [
    "data.head()"
   ]
  },
  {
   "cell_type": "code",
   "execution_count": 15,
   "id": "a5cd3fba-ee9f-4a10-8cd2-9de8749ce194",
   "metadata": {},
   "outputs": [],
   "source": [
    "data['Length'] = data['Message'].apply(len)"
   ]
  },
  {
   "cell_type": "code",
   "execution_count": 16,
   "id": "8bf8824c-9f3c-4b03-b627-e658b16cb813",
   "metadata": {},
   "outputs": [
    {
     "data": {
      "text/html": [
       "<div>\n",
       "<style scoped>\n",
       "    .dataframe tbody tr th:only-of-type {\n",
       "        vertical-align: middle;\n",
       "    }\n",
       "\n",
       "    .dataframe tbody tr th {\n",
       "        vertical-align: top;\n",
       "    }\n",
       "\n",
       "    .dataframe thead th {\n",
       "        text-align: right;\n",
       "    }\n",
       "</style>\n",
       "<table border=\"1\" class=\"dataframe\">\n",
       "  <thead>\n",
       "    <tr style=\"text-align: right;\">\n",
       "      <th></th>\n",
       "      <th>Class</th>\n",
       "      <th>Message</th>\n",
       "      <th>Length</th>\n",
       "    </tr>\n",
       "  </thead>\n",
       "  <tbody>\n",
       "    <tr>\n",
       "      <th>0</th>\n",
       "      <td>neutral</td>\n",
       "      <td>Technopolis plans to develop in stages an area...</td>\n",
       "      <td>190</td>\n",
       "    </tr>\n",
       "    <tr>\n",
       "      <th>1</th>\n",
       "      <td>negative</td>\n",
       "      <td>The international electronic industry company ...</td>\n",
       "      <td>228</td>\n",
       "    </tr>\n",
       "    <tr>\n",
       "      <th>2</th>\n",
       "      <td>positive</td>\n",
       "      <td>With the new production plant the company woul...</td>\n",
       "      <td>206</td>\n",
       "    </tr>\n",
       "    <tr>\n",
       "      <th>3</th>\n",
       "      <td>positive</td>\n",
       "      <td>According to the company 's updated strategy f...</td>\n",
       "      <td>203</td>\n",
       "    </tr>\n",
       "    <tr>\n",
       "      <th>4</th>\n",
       "      <td>positive</td>\n",
       "      <td>FINANCING OF ASPOCOMP 'S GROWTH Aspocomp is ag...</td>\n",
       "      <td>178</td>\n",
       "    </tr>\n",
       "  </tbody>\n",
       "</table>\n",
       "</div>"
      ],
      "text/plain": [
       "      Class                                            Message  Length\n",
       "0   neutral  Technopolis plans to develop in stages an area...     190\n",
       "1  negative  The international electronic industry company ...     228\n",
       "2  positive  With the new production plant the company woul...     206\n",
       "3  positive  According to the company 's updated strategy f...     203\n",
       "4  positive  FINANCING OF ASPOCOMP 'S GROWTH Aspocomp is ag...     178"
      ]
     },
     "execution_count": 16,
     "metadata": {},
     "output_type": "execute_result"
    }
   ],
   "source": [
    "data.head()"
   ]
  },
  {
   "cell_type": "markdown",
   "id": "f4471655-cc52-44c2-8c95-a1a9f91afc9b",
   "metadata": {},
   "source": [
    "### Data Visualization"
   ]
  },
  {
   "cell_type": "code",
   "execution_count": 17,
   "id": "bba84346-5524-48fc-a890-ff47eb2f7461",
   "metadata": {},
   "outputs": [
    {
     "data": {
      "text/plain": [
       "count    4839.000000\n",
       "mean      128.076669\n",
       "std        56.422307\n",
       "min         9.000000\n",
       "25%        84.000000\n",
       "50%       119.000000\n",
       "75%       163.000000\n",
       "max       315.000000\n",
       "Name: Length, dtype: float64"
      ]
     },
     "execution_count": 17,
     "metadata": {},
     "output_type": "execute_result"
    }
   ],
   "source": [
    "data.Length.describe()"
   ]
  },
  {
   "cell_type": "code",
   "execution_count": 26,
   "id": "a5991e12-a755-49c5-84cd-056a6f6f57e6",
   "metadata": {},
   "outputs": [
    {
     "data": {
      "text/plain": [
       "'Supported Nokia phones include : N96 , N95-8GB , N95 , N93-N931 , N92 , N85 , N82 , N81 , N80 , N79 , N78 , N77 , N76 , N75 , N73 , N72 , N71 , E90 , E71 , E70 , E66 , E65 , E62 , E61-E61i , E60 , E51 , E50 , Touch Xpress 5800 , 6220 Classic , 6210 Navigator , 6120 Classic , 6110 Navigator , 5700 , 5500 , 5320XM .'"
      ]
     },
     "execution_count": 26,
     "metadata": {},
     "output_type": "execute_result"
    }
   ],
   "source": [
    "data[data['Length']==315]['Message'].iloc[0]"
   ]
  },
  {
   "cell_type": "code",
   "execution_count": 27,
   "id": "094ba646-7a5b-4e44-9c6d-559fa31deaef",
   "metadata": {},
   "outputs": [
    {
     "data": {
      "text/plain": [
       "'All are welcome .'"
      ]
     },
     "execution_count": 27,
     "metadata": {},
     "output_type": "execute_result"
    }
   ],
   "source": [
    "data[data['Length']==17]['Message'].iloc[0]"
   ]
  },
  {
   "cell_type": "code",
   "execution_count": 28,
   "id": "2104f5ee-76c2-428f-80a4-70a8f7f0e199",
   "metadata": {},
   "outputs": [
    {
     "data": {
      "image/png": "[encoded data removed]",
      "text/plain": [
       "<Figure size 640x480 with 1 Axes>"
      ]
     },
     "metadata": {},
     "output_type": "display_data"
    }
   ],
   "source": [
    "ax = sns.countplot(x='Class',data=data,palette='bright')\n",
    "for i in ax.containers:\n",
    "    ax.bar_label(i)\n",
    "plt.show()"
   ]
  },
  {
   "cell_type": "code",
   "execution_count": 29,
   "id": "518b6528-a608-4640-bff6-00bf2ad17d06",
   "metadata": {},
   "outputs": [
    {
     "data": {
      "text/plain": [
       "<Axes: ylabel='count'>"
      ]
     },
     "execution_count": 29,
     "metadata": {},
     "output_type": "execute_result"
    },
    {
     "data": {
      "image/png": "[encoded data removed]",
      "text/plain": [
       "<Figure size 640x480 with 1 Axes>"
      ]
     },
     "metadata": {},
     "output_type": "display_data"
    }
   ],
   "source": [
    "data.Class.value_counts().plot(kind='pie',autopct='%1.1f%%')"
   ]
  },
  {
   "cell_type": "code",
   "execution_count": 30,
   "id": "9d3821cd-8efc-499f-9349-907d8f904d58",
   "metadata": {},
   "outputs": [
    {
     "data": {
      "image/png": "[encoded data removed]",
      "text/plain": [
       "<Figure size 1200x600 with 1 Axes>"
      ]
     },
     "metadata": {},
     "output_type": "display_data"
    }
   ],
   "source": [
    "plt.figure(figsize=(12,6))\n",
    "ax = sns.barplot(x='Class',data=data,y='Length',palette='bright')\n",
    "for i in ax.containers:\n",
    "    ax.bar_label(i)\n",
    "plt.show()"
   ]
  },
  {
   "cell_type": "code",
   "execution_count": 46,
   "id": "801c5c4e-c979-48a3-8d75-153bfab8a13b",
   "metadata": {},
   "outputs": [
    {
     "data": {
      "image/png": "[encoded data removed]",
      "text/plain": [
       "<Figure size 1200x600 with 1 Axes>"
      ]
     },
     "metadata": {},
     "output_type": "display_data"
    }
   ],
   "source": [
    "plt.figure(figsize=(12,6))\n",
    "ax = sns.countplot(x='Length',data=data,palette='bright')\n",
    "for i in ax.containers:\n",
    "    ax.bar_label(i)\n",
    "plt.show()"
   ]
  },
  {
   "cell_type": "code",
   "execution_count": null,
   "id": "5cb9fc92-fbaf-4aed-8f6d-12444d213e30",
   "metadata": {},
   "outputs": [],
   "source": []
  },
  {
   "cell_type": "markdown",
   "id": "c6f37245-bd61-4500-96c1-77b0c3847704",
   "metadata": {},
   "source": [
    "### Text Pre-Processing"
   ]
  },
  {
   "cell_type": "code",
   "execution_count": 47,
   "id": "6ef9ae03-932f-4b27-8ab2-3796b3ee4e20",
   "metadata": {},
   "outputs": [
    {
     "data": {
      "text/plain": [
       "Class\n",
       "neutral     2872\n",
       "positive    1363\n",
       "negative     604\n",
       "Name: count, dtype: int64"
      ]
     },
     "execution_count": 47,
     "metadata": {},
     "output_type": "execute_result"
    }
   ],
   "source": [
    "# creating an object for the target values\n",
    "Object = data['Class'].value_counts()\n",
    "Object"
   ]
  },
  {
   "cell_type": "code",
   "execution_count": 18,
   "id": "dfd2712d-4f62-4f8d-a251-e3e68257c921",
   "metadata": {},
   "outputs": [],
   "source": [
    "data.Class = data.Class.map({'neutral':2,'positive':1,'negative':0})"
   ]
  },
  {
   "cell_type": "code",
   "execution_count": 19,
   "id": "e15c3852-3360-4153-938e-28a666c3cc3e",
   "metadata": {},
   "outputs": [
    {
     "data": {
      "text/html": [
       "<div>\n",
       "<style scoped>\n",
       "    .dataframe tbody tr th:only-of-type {\n",
       "        vertical-align: middle;\n",
       "    }\n",
       "\n",
       "    .dataframe tbody tr th {\n",
       "        vertical-align: top;\n",
       "    }\n",
       "\n",
       "    .dataframe thead th {\n",
       "        text-align: right;\n",
       "    }\n",
       "</style>\n",
       "<table border=\"1\" class=\"dataframe\">\n",
       "  <thead>\n",
       "    <tr style=\"text-align: right;\">\n",
       "      <th></th>\n",
       "      <th>Class</th>\n",
       "      <th>Message</th>\n",
       "      <th>Length</th>\n",
       "    </tr>\n",
       "  </thead>\n",
       "  <tbody>\n",
       "    <tr>\n",
       "      <th>0</th>\n",
       "      <td>2</td>\n",
       "      <td>Technopolis plans to develop in stages an area...</td>\n",
       "      <td>190</td>\n",
       "    </tr>\n",
       "    <tr>\n",
       "      <th>1</th>\n",
       "      <td>0</td>\n",
       "      <td>The international electronic industry company ...</td>\n",
       "      <td>228</td>\n",
       "    </tr>\n",
       "    <tr>\n",
       "      <th>2</th>\n",
       "      <td>1</td>\n",
       "      <td>With the new production plant the company woul...</td>\n",
       "      <td>206</td>\n",
       "    </tr>\n",
       "    <tr>\n",
       "      <th>3</th>\n",
       "      <td>1</td>\n",
       "      <td>According to the company 's updated strategy f...</td>\n",
       "      <td>203</td>\n",
       "    </tr>\n",
       "    <tr>\n",
       "      <th>4</th>\n",
       "      <td>1</td>\n",
       "      <td>FINANCING OF ASPOCOMP 'S GROWTH Aspocomp is ag...</td>\n",
       "      <td>178</td>\n",
       "    </tr>\n",
       "  </tbody>\n",
       "</table>\n",
       "</div>"
      ],
      "text/plain": [
       "   Class                                            Message  Length\n",
       "0      2  Technopolis plans to develop in stages an area...     190\n",
       "1      0  The international electronic industry company ...     228\n",
       "2      1  With the new production plant the company woul...     206\n",
       "3      1  According to the company 's updated strategy f...     203\n",
       "4      1  FINANCING OF ASPOCOMP 'S GROWTH Aspocomp is ag...     178"
      ]
     },
     "execution_count": 19,
     "metadata": {},
     "output_type": "execute_result"
    }
   ],
   "source": [
    "data.head()"
   ]
  },
  {
   "cell_type": "markdown",
   "id": "42a140ee-a7e7-47cb-921a-b1380d324839",
   "metadata": {},
   "source": [
    "First removing punctuation. We can just take advantage of Python's built-in string library to get a quick list of all the possible punctuation:"
   ]
  },
  {
   "cell_type": "code",
   "execution_count": 20,
   "id": "936ed568-5bf2-4755-9520-57b276e1459f",
   "metadata": {},
   "outputs": [
    {
     "data": {
      "text/plain": [
       "'!\"#$%&\\'()*+,-./:;<=>?@[\\\\]^_`{|}~'"
      ]
     },
     "execution_count": 20,
     "metadata": {},
     "output_type": "execute_result"
    }
   ],
   "source": [
    "import string\n",
    "string.punctuation"
   ]
  },
  {
   "cell_type": "code",
   "execution_count": 21,
   "id": "d214ff4f-3f7f-497a-8731-2308b1154c0f",
   "metadata": {},
   "outputs": [
    {
     "data": {
      "text/plain": [
       "False"
      ]
     },
     "execution_count": 21,
     "metadata": {},
     "output_type": "execute_result"
    }
   ],
   "source": [
    "# Why is it important to remove punctuation?\n",
    "\n",
    "\"This message is spam\" == \"This message is spam.\""
   ]
  },
  {
   "cell_type": "code",
   "execution_count": 22,
   "id": "b48dd6ac-c335-4985-87ee-0b9a94801353",
   "metadata": {},
   "outputs": [
    {
     "data": {
      "text/plain": [
       "False"
      ]
     },
     "execution_count": 22,
     "metadata": {},
     "output_type": "execute_result"
    }
   ],
   "source": [
    "\"hello\"==\"hello!\""
   ]
  },
  {
   "cell_type": "code",
   "execution_count": 23,
   "id": "9ab6fb0f-875d-4157-9e7d-367cac65a513",
   "metadata": {},
   "outputs": [
    {
     "data": {
      "text/html": [
       "<div>\n",
       "<style scoped>\n",
       "    .dataframe tbody tr th:only-of-type {\n",
       "        vertical-align: middle;\n",
       "    }\n",
       "\n",
       "    .dataframe tbody tr th {\n",
       "        vertical-align: top;\n",
       "    }\n",
       "\n",
       "    .dataframe thead th {\n",
       "        text-align: right;\n",
       "    }\n",
       "</style>\n",
       "<table border=\"1\" class=\"dataframe\">\n",
       "  <thead>\n",
       "    <tr style=\"text-align: right;\">\n",
       "      <th></th>\n",
       "      <th>Class</th>\n",
       "      <th>Message</th>\n",
       "      <th>Length</th>\n",
       "      <th>text_clean</th>\n",
       "    </tr>\n",
       "  </thead>\n",
       "  <tbody>\n",
       "    <tr>\n",
       "      <th>0</th>\n",
       "      <td>2</td>\n",
       "      <td>Technopolis plans to develop in stages an area...</td>\n",
       "      <td>190</td>\n",
       "      <td>technopolis plans to develop in stages an area...</td>\n",
       "    </tr>\n",
       "    <tr>\n",
       "      <th>1</th>\n",
       "      <td>0</td>\n",
       "      <td>The international electronic industry company ...</td>\n",
       "      <td>228</td>\n",
       "      <td>the international electronic industry company ...</td>\n",
       "    </tr>\n",
       "    <tr>\n",
       "      <th>2</th>\n",
       "      <td>1</td>\n",
       "      <td>With the new production plant the company woul...</td>\n",
       "      <td>206</td>\n",
       "      <td>with the new production plant the company woul...</td>\n",
       "    </tr>\n",
       "    <tr>\n",
       "      <th>3</th>\n",
       "      <td>1</td>\n",
       "      <td>According to the company 's updated strategy f...</td>\n",
       "      <td>203</td>\n",
       "      <td>according to the company s updated strategy fo...</td>\n",
       "    </tr>\n",
       "    <tr>\n",
       "      <th>4</th>\n",
       "      <td>1</td>\n",
       "      <td>FINANCING OF ASPOCOMP 'S GROWTH Aspocomp is ag...</td>\n",
       "      <td>178</td>\n",
       "      <td>financing of aspocomp s growth aspocomp is agg...</td>\n",
       "    </tr>\n",
       "  </tbody>\n",
       "</table>\n",
       "</div>"
      ],
      "text/plain": [
       "   Class                                            Message  Length  \\\n",
       "0      2  Technopolis plans to develop in stages an area...     190   \n",
       "1      0  The international electronic industry company ...     228   \n",
       "2      1  With the new production plant the company woul...     206   \n",
       "3      1  According to the company 's updated strategy f...     203   \n",
       "4      1  FINANCING OF ASPOCOMP 'S GROWTH Aspocomp is ag...     178   \n",
       "\n",
       "                                          text_clean  \n",
       "0  technopolis plans to develop in stages an area...  \n",
       "1  the international electronic industry company ...  \n",
       "2  with the new production plant the company woul...  \n",
       "3  according to the company s updated strategy fo...  \n",
       "4  financing of aspocomp s growth aspocomp is agg...  "
      ]
     },
     "execution_count": 23,
     "metadata": {},
     "output_type": "execute_result"
    }
   ],
   "source": [
    "# Let's remove the punctuation\n",
    "\n",
    "def remove_punct(text):\n",
    "    text = \"\".join([char for char in text if char not in string.punctuation])\n",
    "    return text.lower()\n",
    "\n",
    "data['text_clean'] = data['Message'].apply(lambda x: remove_punct(x))\n",
    "\n",
    "data.head()"
   ]
  },
  {
   "cell_type": "markdown",
   "id": "d2f649a1-a814-4cef-a707-d7fc334e5deb",
   "metadata": {},
   "source": [
    "__Tokenization__ (process of converting the normal text strings in to a list of tokens(also known as lemmas))."
   ]
  },
  {
   "cell_type": "code",
   "execution_count": 24,
   "id": "6e6d9eaa-29d0-4507-8a36-b1c9a2f47921",
   "metadata": {},
   "outputs": [
    {
     "data": {
      "text/html": [
       "<div>\n",
       "<style scoped>\n",
       "    .dataframe tbody tr th:only-of-type {\n",
       "        vertical-align: middle;\n",
       "    }\n",
       "\n",
       "    .dataframe tbody tr th {\n",
       "        vertical-align: top;\n",
       "    }\n",
       "\n",
       "    .dataframe thead th {\n",
       "        text-align: right;\n",
       "    }\n",
       "</style>\n",
       "<table border=\"1\" class=\"dataframe\">\n",
       "  <thead>\n",
       "    <tr style=\"text-align: right;\">\n",
       "      <th></th>\n",
       "      <th>Class</th>\n",
       "      <th>Message</th>\n",
       "      <th>Length</th>\n",
       "      <th>text_clean</th>\n",
       "    </tr>\n",
       "  </thead>\n",
       "  <tbody>\n",
       "    <tr>\n",
       "      <th>0</th>\n",
       "      <td>2</td>\n",
       "      <td>Technopolis plans to develop in stages an area...</td>\n",
       "      <td>190</td>\n",
       "      <td>technopolis plans to develop in stages an area...</td>\n",
       "    </tr>\n",
       "    <tr>\n",
       "      <th>1</th>\n",
       "      <td>0</td>\n",
       "      <td>The international electronic industry company ...</td>\n",
       "      <td>228</td>\n",
       "      <td>the international electronic industry company ...</td>\n",
       "    </tr>\n",
       "    <tr>\n",
       "      <th>2</th>\n",
       "      <td>1</td>\n",
       "      <td>With the new production plant the company woul...</td>\n",
       "      <td>206</td>\n",
       "      <td>with the new production plant the company woul...</td>\n",
       "    </tr>\n",
       "    <tr>\n",
       "      <th>3</th>\n",
       "      <td>1</td>\n",
       "      <td>According to the company 's updated strategy f...</td>\n",
       "      <td>203</td>\n",
       "      <td>according to the company s updated strategy fo...</td>\n",
       "    </tr>\n",
       "    <tr>\n",
       "      <th>4</th>\n",
       "      <td>1</td>\n",
       "      <td>FINANCING OF ASPOCOMP 'S GROWTH Aspocomp is ag...</td>\n",
       "      <td>178</td>\n",
       "      <td>financing of aspocomp s growth aspocomp is agg...</td>\n",
       "    </tr>\n",
       "    <tr>\n",
       "      <th>5</th>\n",
       "      <td>1</td>\n",
       "      <td>For the last quarter of 2010 , Componenta 's n...</td>\n",
       "      <td>193</td>\n",
       "      <td>for the last quarter of 2010  componenta s net...</td>\n",
       "    </tr>\n",
       "    <tr>\n",
       "      <th>6</th>\n",
       "      <td>1</td>\n",
       "      <td>In the third quarter of 2010 , net sales incre...</td>\n",
       "      <td>125</td>\n",
       "      <td>in the third quarter of 2010  net sales increa...</td>\n",
       "    </tr>\n",
       "    <tr>\n",
       "      <th>7</th>\n",
       "      <td>1</td>\n",
       "      <td>Operating profit rose to EUR 13.1 mn from EUR ...</td>\n",
       "      <td>122</td>\n",
       "      <td>operating profit rose to eur 131 mn from eur 8...</td>\n",
       "    </tr>\n",
       "  </tbody>\n",
       "</table>\n",
       "</div>"
      ],
      "text/plain": [
       "   Class                                            Message  Length  \\\n",
       "0      2  Technopolis plans to develop in stages an area...     190   \n",
       "1      0  The international electronic industry company ...     228   \n",
       "2      1  With the new production plant the company woul...     206   \n",
       "3      1  According to the company 's updated strategy f...     203   \n",
       "4      1  FINANCING OF ASPOCOMP 'S GROWTH Aspocomp is ag...     178   \n",
       "5      1  For the last quarter of 2010 , Componenta 's n...     193   \n",
       "6      1  In the third quarter of 2010 , net sales incre...     125   \n",
       "7      1  Operating profit rose to EUR 13.1 mn from EUR ...     122   \n",
       "\n",
       "                                          text_clean  \n",
       "0  technopolis plans to develop in stages an area...  \n",
       "1  the international electronic industry company ...  \n",
       "2  with the new production plant the company woul...  \n",
       "3  according to the company s updated strategy fo...  \n",
       "4  financing of aspocomp s growth aspocomp is agg...  \n",
       "5  for the last quarter of 2010  componenta s net...  \n",
       "6  in the third quarter of 2010  net sales increa...  \n",
       "7  operating profit rose to eur 131 mn from eur 8...  "
      ]
     },
     "execution_count": 24,
     "metadata": {},
     "output_type": "execute_result"
    }
   ],
   "source": [
    "# original text and cleaned text\n",
    "data.head(8)"
   ]
  },
  {
   "cell_type": "markdown",
   "id": "b60cd5bc-4493-4a8f-92b3-03f55a0521a5",
   "metadata": {},
   "source": [
    "Now we need to convert each of those messages into a vector the SciKit Learn's algorithm models can work with and machine learning model which we will gonig to use can understand."
   ]
  },
  {
   "cell_type": "code",
   "execution_count": 25,
   "id": "86b62005-9d7a-4773-b1a2-36b9d33ebe0b",
   "metadata": {},
   "outputs": [],
   "source": [
    "# Countvectorizer is a method to convert text to numerical data.(Bag of words)\n",
    "\n",
    "# Initialize the object for countvectorizer\n",
    "CV = CountVectorizer(stop_words=\"english\")"
   ]
  },
  {
   "cell_type": "markdown",
   "id": "779cb90b-c6ed-467e-8e47-da2aa0317291",
   "metadata": {},
   "source": [
    "[Stopwords are the words in any language which does not add much meaning to a sentence. They are the words which are very common in text documents such as a, an, the, you, your, etc. The Stop Words highly appear in text documents. However, they are not being helpful for text analysis in many of the cases, So it is better to remove from the text. We can focus on the important words if stop words have removed.]"
   ]
  },
  {
   "cell_type": "code",
   "execution_count": 26,
   "id": "78d6bcbf-679b-4fff-973a-ca4fee3ced1d",
   "metadata": {},
   "outputs": [
    {
     "data": {
      "text/html": [
       "<style>#sk-container-id-1 {color: black;background-color: white;}#sk-container-id-1 pre{padding: 0;}#sk-container-id-1 div.sk-toggleable {background-color: white;}#sk-container-id-1 label.sk-toggleable__label {cursor: pointer;display: block;width: 100%;margin-bottom: 0;padding: 0.3em;box-sizing: border-box;text-align: center;}#sk-container-id-1 label.sk-toggleable__label-arrow:before {content: \"▸\";float: left;margin-right: 0.25em;color: #696969;}#sk-container-id-1 label.sk-toggleable__label-arrow:hover:before {color: black;}#sk-container-id-1 div.sk-estimator:hover label.sk-toggleable__label-arrow:before {color: black;}#sk-container-id-1 div.sk-toggleable__content {max-height: 0;max-width: 0;overflow: hidden;text-align: left;background-color: #f0f8ff;}#sk-container-id-1 div.sk-toggleable__content pre {margin: 0.2em;color: black;border-radius: 0.25em;background-color: #f0f8ff;}#sk-container-id-1 input.sk-toggleable__control:checked~div.sk-toggleable__content {max-height: 200px;max-width: 100%;overflow: auto;}#sk-container-id-1 input.sk-toggleable__control:checked~label.sk-toggleable__label-arrow:before {content: \"▾\";}#sk-container-id-1 div.sk-estimator input.sk-toggleable__control:checked~label.sk-toggleable__label {background-color: #d4ebff;}#sk-container-id-1 div.sk-label input.sk-toggleable__control:checked~label.sk-toggleable__label {background-color: #d4ebff;}#sk-container-id-1 input.sk-hidden--visually {border: 0;clip: rect(1px 1px 1px 1px);clip: rect(1px, 1px, 1px, 1px);height: 1px;margin: -1px;overflow: hidden;padding: 0;position: absolute;width: 1px;}#sk-container-id-1 div.sk-estimator {font-family: monospace;background-color: #f0f8ff;border: 1px dotted black;border-radius: 0.25em;box-sizing: border-box;margin-bottom: 0.5em;}#sk-container-id-1 div.sk-estimator:hover {background-color: #d4ebff;}#sk-container-id-1 div.sk-parallel-item::after {content: \"\";width: 100%;border-bottom: 1px solid gray;flex-grow: 1;}#sk-container-id-1 div.sk-label:hover label.sk-toggleable__label {background-color: #d4ebff;}#sk-container-id-1 div.sk-serial::before {content: \"\";position: absolute;border-left: 1px solid gray;box-sizing: border-box;top: 0;bottom: 0;left: 50%;z-index: 0;}#sk-container-id-1 div.sk-serial {display: flex;flex-direction: column;align-items: center;background-color: white;padding-right: 0.2em;padding-left: 0.2em;position: relative;}#sk-container-id-1 div.sk-item {position: relative;z-index: 1;}#sk-container-id-1 div.sk-parallel {display: flex;align-items: stretch;justify-content: center;background-color: white;position: relative;}#sk-container-id-1 div.sk-item::before, #sk-container-id-1 div.sk-parallel-item::before {content: \"\";position: absolute;border-left: 1px solid gray;box-sizing: border-box;top: 0;bottom: 0;left: 50%;z-index: -1;}#sk-container-id-1 div.sk-parallel-item {display: flex;flex-direction: column;z-index: 1;position: relative;background-color: white;}#sk-container-id-1 div.sk-parallel-item:first-child::after {align-self: flex-end;width: 50%;}#sk-container-id-1 div.sk-parallel-item:last-child::after {align-self: flex-start;width: 50%;}#sk-container-id-1 div.sk-parallel-item:only-child::after {width: 0;}#sk-container-id-1 div.sk-dashed-wrapped {border: 1px dashed gray;margin: 0 0.4em 0.5em 0.4em;box-sizing: border-box;padding-bottom: 0.4em;background-color: white;}#sk-container-id-1 div.sk-label label {font-family: monospace;font-weight: bold;display: inline-block;line-height: 1.2em;}#sk-container-id-1 div.sk-label-container {text-align: center;}#sk-container-id-1 div.sk-container {/* jupyter's `normalize.less` sets `[hidden] { display: none; }` but bootstrap.min.css set `[hidden] { display: none !important; }` so we also need the `!important` here to be able to override the default hidden behavior on the sphinx rendered scikit-learn.org. See: https://github.com/scikit-learn/scikit-learn/issues/21755 */display: inline-block !important;position: relative;}#sk-container-id-1 div.sk-text-repr-fallback {display: none;}</style><div id=\"sk-container-id-1\" class=\"sk-top-container\"><div class=\"sk-text-repr-fallback\"><pre>CountVectorizer(stop_words=&#x27;english&#x27;)</pre><b>In a Jupyter environment, please rerun this cell to show the HTML representation or trust the notebook. <br />On GitHub, the HTML representation is unable to render, please try loading this page with nbviewer.org.</b></div><div class=\"sk-container\" hidden><div class=\"sk-item\"><div class=\"sk-estimator sk-toggleable\"><input class=\"sk-toggleable__control sk-hidden--visually\" id=\"sk-estimator-id-1\" type=\"checkbox\" checked><label for=\"sk-estimator-id-1\" class=\"sk-toggleable__label sk-toggleable__label-arrow\">CountVectorizer</label><div class=\"sk-toggleable__content\"><pre>CountVectorizer(stop_words=&#x27;english&#x27;)</pre></div></div></div></div></div>"
      ],
      "text/plain": [
       "CountVectorizer(stop_words='english')"
      ]
     },
     "execution_count": 26,
     "metadata": {},
     "output_type": "execute_result"
    }
   ],
   "source": [
    "CV.fit(data['text_clean'])"
   ]
  },
  {
   "cell_type": "code",
   "execution_count": 27,
   "id": "e91f000e-e22c-4906-8849-0804fc4e0c19",
   "metadata": {},
   "outputs": [],
   "source": [
    "x=CV.transform(data['text_clean']).toarray()"
   ]
  },
  {
   "cell_type": "code",
   "execution_count": 28,
   "id": "beac60c0-68b9-4c03-a24d-0870873158d6",
   "metadata": {},
   "outputs": [
    {
     "data": {
      "text/plain": [
       "array([[0, 0, 0, ..., 0, 0, 0],\n",
       "       [0, 0, 0, ..., 0, 0, 0],\n",
       "       [0, 0, 0, ..., 0, 0, 0],\n",
       "       ...,\n",
       "       [0, 0, 0, ..., 0, 0, 0],\n",
       "       [0, 0, 0, ..., 0, 0, 0],\n",
       "       [0, 0, 0, ..., 0, 0, 0]], dtype=int64)"
      ]
     },
     "execution_count": 28,
     "metadata": {},
     "output_type": "execute_result"
    }
   ],
   "source": [
    "x"
   ]
  },
  {
   "cell_type": "code",
   "execution_count": 29,
   "id": "aaa89469-9274-4ccf-a2c8-550508e82373",
   "metadata": {},
   "outputs": [
    {
     "data": {
      "text/html": [
       "<div>\n",
       "<style scoped>\n",
       "    .dataframe tbody tr th:only-of-type {\n",
       "        vertical-align: middle;\n",
       "    }\n",
       "\n",
       "    .dataframe tbody tr th {\n",
       "        vertical-align: top;\n",
       "    }\n",
       "\n",
       "    .dataframe thead th {\n",
       "        text-align: right;\n",
       "    }\n",
       "</style>\n",
       "<table border=\"1\" class=\"dataframe\">\n",
       "  <thead>\n",
       "    <tr style=\"text-align: right;\">\n",
       "      <th></th>\n",
       "      <th>Class</th>\n",
       "      <th>Message</th>\n",
       "      <th>Length</th>\n",
       "      <th>text_clean</th>\n",
       "    </tr>\n",
       "  </thead>\n",
       "  <tbody>\n",
       "    <tr>\n",
       "      <th>0</th>\n",
       "      <td>2</td>\n",
       "      <td>Technopolis plans to develop in stages an area...</td>\n",
       "      <td>190</td>\n",
       "      <td>technopolis plans to develop in stages an area...</td>\n",
       "    </tr>\n",
       "    <tr>\n",
       "      <th>1</th>\n",
       "      <td>0</td>\n",
       "      <td>The international electronic industry company ...</td>\n",
       "      <td>228</td>\n",
       "      <td>the international electronic industry company ...</td>\n",
       "    </tr>\n",
       "    <tr>\n",
       "      <th>2</th>\n",
       "      <td>1</td>\n",
       "      <td>With the new production plant the company woul...</td>\n",
       "      <td>206</td>\n",
       "      <td>with the new production plant the company woul...</td>\n",
       "    </tr>\n",
       "    <tr>\n",
       "      <th>3</th>\n",
       "      <td>1</td>\n",
       "      <td>According to the company 's updated strategy f...</td>\n",
       "      <td>203</td>\n",
       "      <td>according to the company s updated strategy fo...</td>\n",
       "    </tr>\n",
       "    <tr>\n",
       "      <th>4</th>\n",
       "      <td>1</td>\n",
       "      <td>FINANCING OF ASPOCOMP 'S GROWTH Aspocomp is ag...</td>\n",
       "      <td>178</td>\n",
       "      <td>financing of aspocomp s growth aspocomp is agg...</td>\n",
       "    </tr>\n",
       "  </tbody>\n",
       "</table>\n",
       "</div>"
      ],
      "text/plain": [
       "   Class                                            Message  Length  \\\n",
       "0      2  Technopolis plans to develop in stages an area...     190   \n",
       "1      0  The international electronic industry company ...     228   \n",
       "2      1  With the new production plant the company woul...     206   \n",
       "3      1  According to the company 's updated strategy f...     203   \n",
       "4      1  FINANCING OF ASPOCOMP 'S GROWTH Aspocomp is ag...     178   \n",
       "\n",
       "                                          text_clean  \n",
       "0  technopolis plans to develop in stages an area...  \n",
       "1  the international electronic industry company ...  \n",
       "2  with the new production plant the company woul...  \n",
       "3  according to the company s updated strategy fo...  \n",
       "4  financing of aspocomp s growth aspocomp is agg...  "
      ]
     },
     "execution_count": 29,
     "metadata": {},
     "output_type": "execute_result"
    }
   ],
   "source": [
    "data.head()"
   ]
  },
  {
   "cell_type": "code",
   "execution_count": 30,
   "id": "b893ee5e-9893-47d7-9350-b793f7de7906",
   "metadata": {},
   "outputs": [],
   "source": [
    "x=CV.transform(data['Message']).toarray()"
   ]
  },
  {
   "cell_type": "code",
   "execution_count": 31,
   "id": "0c84489d-48ae-4919-965f-fe051f00c81b",
   "metadata": {},
   "outputs": [
    {
     "data": {
      "text/plain": [
       "array([[0, 1, 0, ..., 0, 0, 0],\n",
       "       [0, 0, 0, ..., 0, 0, 0],\n",
       "       [0, 0, 0, ..., 0, 0, 0],\n",
       "       ...,\n",
       "       [0, 0, 0, ..., 0, 0, 0],\n",
       "       [0, 0, 0, ..., 0, 0, 0],\n",
       "       [0, 0, 0, ..., 0, 0, 0]], dtype=int64)"
      ]
     },
     "execution_count": 31,
     "metadata": {},
     "output_type": "execute_result"
    }
   ],
   "source": [
    "x"
   ]
  },
  {
   "cell_type": "code",
   "execution_count": 32,
   "id": "cf7788b3-a7e5-4663-bd87-c9f85875dec9",
   "metadata": {},
   "outputs": [
    {
     "data": {
      "text/plain": [
       "array([2, 0, 1, ..., 0, 0, 0], dtype=int64)"
      ]
     },
     "execution_count": 32,
     "metadata": {},
     "output_type": "execute_result"
    }
   ],
   "source": [
    "# Splitting x and y\n",
    "\n",
    "xSet = data['text_clean'].values\n",
    "ySet = data['Class'].values\n",
    "ySet"
   ]
  },
  {
   "cell_type": "code",
   "execution_count": 33,
   "id": "2545b5f5-5e21-4fed-aa9b-44a6ae8e9c20",
   "metadata": {},
   "outputs": [
    {
     "data": {
      "text/plain": [
       "array([2, 0, 1, ..., 0, 0, 0])"
      ]
     },
     "execution_count": 33,
     "metadata": {},
     "output_type": "execute_result"
    }
   ],
   "source": [
    "# Datatype for y is object. lets convert it into int\n",
    "ySet = ySet.astype('int')\n",
    "ySet"
   ]
  },
  {
   "cell_type": "code",
   "execution_count": 34,
   "id": "c4997e37-5331-458f-b5e9-6add41e5bf6e",
   "metadata": {},
   "outputs": [
    {
     "data": {
      "text/plain": [
       "array(['technopolis plans to develop in stages an area of no less than 100000 square meters in order to host companies working in computer technologies and telecommunications  the statement said ',\n",
       "       'the international electronic industry company elcoteq has laid off tens of employees from its tallinn facility  contrary to earlier layoffs the company contracted the ranks of its office workers  the daily postimees reported ',\n",
       "       'with the new production plant the company would increase its capacity to meet the expected increase in demand and would improve the use of raw materials and therefore increase the production profitability ',\n",
       "       ...,\n",
       "       'operating profit fell to eur 354 mn from eur 688 mn in 2007  including vessel sales gain of eur 123 mn ',\n",
       "       'net sales of the paper segment decreased to eur 2216 mn in the second quarter of 2009 from eur 2411 mn in the second quarter of 2008  while operating profit excluding nonrecurring items rose to eur 80 mn from eur 76 mn ',\n",
       "       'sales in finland decreased by 105  in january  while sales outside finland dropped by 17  '],\n",
       "      dtype=object)"
      ]
     },
     "execution_count": 34,
     "metadata": {},
     "output_type": "execute_result"
    }
   ],
   "source": [
    "xSet"
   ]
  },
  {
   "cell_type": "markdown",
   "id": "3b387333-7def-4e0b-8db5-a6c0e66d4c01",
   "metadata": {},
   "source": [
    "### Splitting Train and Test Data"
   ]
  },
  {
   "cell_type": "code",
   "execution_count": 35,
   "id": "beb47aa9-84ce-4592-878a-843718357956",
   "metadata": {},
   "outputs": [
    {
     "data": {
      "text/plain": [
       "array([[0, 1, 0, ..., 0, 0, 0],\n",
       "       [0, 0, 0, ..., 0, 0, 0],\n",
       "       [0, 0, 0, ..., 0, 0, 0],\n",
       "       ...,\n",
       "       [0, 0, 0, ..., 0, 0, 0],\n",
       "       [0, 0, 0, ..., 0, 0, 0],\n",
       "       [0, 0, 0, ..., 0, 0, 0]], dtype=int64)"
      ]
     },
     "execution_count": 35,
     "metadata": {},
     "output_type": "execute_result"
    }
   ],
   "source": [
    "x"
   ]
  },
  {
   "cell_type": "code",
   "execution_count": 36,
   "id": "68e3dc73-df88-4757-a296-8fb9b259de04",
   "metadata": {},
   "outputs": [
    {
     "data": {
      "text/plain": [
       "0       2\n",
       "1       0\n",
       "2       1\n",
       "3       1\n",
       "4       1\n",
       "       ..\n",
       "4840    0\n",
       "4841    2\n",
       "4842    0\n",
       "4843    0\n",
       "4844    0\n",
       "Name: Class, Length: 4839, dtype: int64"
      ]
     },
     "execution_count": 36,
     "metadata": {},
     "output_type": "execute_result"
    }
   ],
   "source": [
    "y = data.Class\n",
    "y"
   ]
  },
  {
   "cell_type": "code",
   "execution_count": 37,
   "id": "01513157-641f-4b47-992c-f05256692c12",
   "metadata": {},
   "outputs": [],
   "source": [
    "xSet_train,xSet_test,ySet_train,ySet_test = train_test_split(xSet,ySet,test_size=0.2, random_state=10)"
   ]
  },
  {
   "cell_type": "code",
   "execution_count": 38,
   "id": "369215bb-c9b0-4f93-bcac-21afc36f036c",
   "metadata": {},
   "outputs": [
    {
     "data": {
      "text/plain": [
       "<3871x9603 sparse matrix of type '<class 'numpy.int64'>'\n",
       "\twith 45283 stored elements in Compressed Sparse Row format>"
      ]
     },
     "execution_count": 38,
     "metadata": {},
     "output_type": "execute_result"
    }
   ],
   "source": [
    "xSet_train_CV = CV.fit_transform(xSet_train)\n",
    "xSet_train_CV"
   ]
  },
  {
   "cell_type": "code",
   "execution_count": 39,
   "id": "c7a7d604-c3e2-4d98-b137-d9dde6e47b59",
   "metadata": {},
   "outputs": [
    {
     "data": {
      "text/plain": [
       "array([[0, 0, 0, ..., 0, 0, 0],\n",
       "       [0, 0, 0, ..., 0, 0, 0],\n",
       "       [0, 0, 0, ..., 0, 0, 0],\n",
       "       ...,\n",
       "       [0, 0, 0, ..., 0, 0, 0],\n",
       "       [0, 0, 0, ..., 0, 0, 0],\n",
       "       [0, 0, 0, ..., 0, 0, 0]], dtype=int64)"
      ]
     },
     "execution_count": 39,
     "metadata": {},
     "output_type": "execute_result"
    }
   ],
   "source": [
    "xSet_train_CV.toarray()"
   ]
  },
  {
   "cell_type": "markdown",
   "id": "97e684f1-d48b-4915-b388-94fba86d1d0c",
   "metadata": {},
   "source": [
    "### Training a model\n",
    "\n",
    "With messages represented as vectors, we can finally train our spam/ham classifier. Now we can actually use almost any sort of classification algorithms. For a variety of reasons, the Naive Bayes classifier algorithm is a good choice."
   ]
  },
  {
   "cell_type": "code",
   "execution_count": 40,
   "id": "1d6fb675-be77-4675-9797-a827821a9c8e",
   "metadata": {},
   "outputs": [],
   "source": [
    "# Initialising the model\n",
    "NB = MultinomialNB()"
   ]
  },
  {
   "cell_type": "code",
   "execution_count": 41,
   "id": "b1aeedfb-ed73-493b-b6a0-853887d4e25f",
   "metadata": {},
   "outputs": [
    {
     "data": {
      "text/html": [
       "<style>#sk-container-id-2 {color: black;background-color: white;}#sk-container-id-2 pre{padding: 0;}#sk-container-id-2 div.sk-toggleable {background-color: white;}#sk-container-id-2 label.sk-toggleable__label {cursor: pointer;display: block;width: 100%;margin-bottom: 0;padding: 0.3em;box-sizing: border-box;text-align: center;}#sk-container-id-2 label.sk-toggleable__label-arrow:before {content: \"▸\";float: left;margin-right: 0.25em;color: #696969;}#sk-container-id-2 label.sk-toggleable__label-arrow:hover:before {color: black;}#sk-container-id-2 div.sk-estimator:hover label.sk-toggleable__label-arrow:before {color: black;}#sk-container-id-2 div.sk-toggleable__content {max-height: 0;max-width: 0;overflow: hidden;text-align: left;background-color: #f0f8ff;}#sk-container-id-2 div.sk-toggleable__content pre {margin: 0.2em;color: black;border-radius: 0.25em;background-color: #f0f8ff;}#sk-container-id-2 input.sk-toggleable__control:checked~div.sk-toggleable__content {max-height: 200px;max-width: 100%;overflow: auto;}#sk-container-id-2 input.sk-toggleable__control:checked~label.sk-toggleable__label-arrow:before {content: \"▾\";}#sk-container-id-2 div.sk-estimator input.sk-toggleable__control:checked~label.sk-toggleable__label {background-color: #d4ebff;}#sk-container-id-2 div.sk-label input.sk-toggleable__control:checked~label.sk-toggleable__label {background-color: #d4ebff;}#sk-container-id-2 input.sk-hidden--visually {border: 0;clip: rect(1px 1px 1px 1px);clip: rect(1px, 1px, 1px, 1px);height: 1px;margin: -1px;overflow: hidden;padding: 0;position: absolute;width: 1px;}#sk-container-id-2 div.sk-estimator {font-family: monospace;background-color: #f0f8ff;border: 1px dotted black;border-radius: 0.25em;box-sizing: border-box;margin-bottom: 0.5em;}#sk-container-id-2 div.sk-estimator:hover {background-color: #d4ebff;}#sk-container-id-2 div.sk-parallel-item::after {content: \"\";width: 100%;border-bottom: 1px solid gray;flex-grow: 1;}#sk-container-id-2 div.sk-label:hover label.sk-toggleable__label {background-color: #d4ebff;}#sk-container-id-2 div.sk-serial::before {content: \"\";position: absolute;border-left: 1px solid gray;box-sizing: border-box;top: 0;bottom: 0;left: 50%;z-index: 0;}#sk-container-id-2 div.sk-serial {display: flex;flex-direction: column;align-items: center;background-color: white;padding-right: 0.2em;padding-left: 0.2em;position: relative;}#sk-container-id-2 div.sk-item {position: relative;z-index: 1;}#sk-container-id-2 div.sk-parallel {display: flex;align-items: stretch;justify-content: center;background-color: white;position: relative;}#sk-container-id-2 div.sk-item::before, #sk-container-id-2 div.sk-parallel-item::before {content: \"\";position: absolute;border-left: 1px solid gray;box-sizing: border-box;top: 0;bottom: 0;left: 50%;z-index: -1;}#sk-container-id-2 div.sk-parallel-item {display: flex;flex-direction: column;z-index: 1;position: relative;background-color: white;}#sk-container-id-2 div.sk-parallel-item:first-child::after {align-self: flex-end;width: 50%;}#sk-container-id-2 div.sk-parallel-item:last-child::after {align-self: flex-start;width: 50%;}#sk-container-id-2 div.sk-parallel-item:only-child::after {width: 0;}#sk-container-id-2 div.sk-dashed-wrapped {border: 1px dashed gray;margin: 0 0.4em 0.5em 0.4em;box-sizing: border-box;padding-bottom: 0.4em;background-color: white;}#sk-container-id-2 div.sk-label label {font-family: monospace;font-weight: bold;display: inline-block;line-height: 1.2em;}#sk-container-id-2 div.sk-label-container {text-align: center;}#sk-container-id-2 div.sk-container {/* jupyter's `normalize.less` sets `[hidden] { display: none; }` but bootstrap.min.css set `[hidden] { display: none !important; }` so we also need the `!important` here to be able to override the default hidden behavior on the sphinx rendered scikit-learn.org. See: https://github.com/scikit-learn/scikit-learn/issues/21755 */display: inline-block !important;position: relative;}#sk-container-id-2 div.sk-text-repr-fallback {display: none;}</style><div id=\"sk-container-id-2\" class=\"sk-top-container\"><div class=\"sk-text-repr-fallback\"><pre>MultinomialNB()</pre><b>In a Jupyter environment, please rerun this cell to show the HTML representation or trust the notebook. <br />On GitHub, the HTML representation is unable to render, please try loading this page with nbviewer.org.</b></div><div class=\"sk-container\" hidden><div class=\"sk-item\"><div class=\"sk-estimator sk-toggleable\"><input class=\"sk-toggleable__control sk-hidden--visually\" id=\"sk-estimator-id-2\" type=\"checkbox\" checked><label for=\"sk-estimator-id-2\" class=\"sk-toggleable__label sk-toggleable__label-arrow\">MultinomialNB</label><div class=\"sk-toggleable__content\"><pre>MultinomialNB()</pre></div></div></div></div></div>"
      ],
      "text/plain": [
       "MultinomialNB()"
      ]
     },
     "execution_count": 41,
     "metadata": {},
     "output_type": "execute_result"
    }
   ],
   "source": [
    "# feed data to the model\n",
    "NB.fit(xSet_train_CV,ySet_train)"
   ]
  },
  {
   "cell_type": "code",
   "execution_count": 42,
   "id": "628fef3a-543c-4510-a76d-47aee0848058",
   "metadata": {
    "scrolled": true
   },
   "outputs": [
    {
     "data": {
      "text/plain": [
       "array(['according to finnish fim bank  alpro s price would be around eur 100mn150mn ',\n",
       "       'nokia will certainly disagree with qualcomm s views on the patent situation ',\n",
       "       'alexandria  va  may 16  kenneth bower of vista  calif  has developed an ornamental design for a handset  the us patent  trademark office announced ',\n",
       "       'the insurance division turned a eur120m profit ',\n",
       "       'profit for the period fell to eur 16 mn from eur 75 mn in januaryseptember 2008 ',\n",
       "       'rihko said the sale will enable the company to concentrate on its grainbased business ',\n",
       "       'expense ratio was 1026  compared to 929  in the corresponding period in 2005 ',\n",
       "       'the building complex consists of highquality office and retail space totalling 49200 square metres  the company said ',\n",
       "       'news corp s myspacecom web site will display submissions for the expanded broadband emmy awards as part of an effort to identify aspiring video artists ',\n",
       "       'the agreement includes the entire process of managing mercator s supply chain in all regions where the company is currently present ',\n",
       "       'the remote radio head module will be available at 4w power for 25 ghz and 35 ghz tdd frequency bands ',\n",
       "       'when the situation normalises  the company will be able to increase the amount of residential units for sale in st petersburg and moscow  in particular ',\n",
       "       'finnish forest machinery manufacturer ponsse has agreed with volvo on the start of cooperation in latin america ',\n",
       "       'back then  tikkurila s former owner  finnish chemicals company kemira oyj hel  kra1v  distributed an 86  stake to kemira shareholders to facilitate the divestment and listing of tikkurila ',\n",
       "       'dopplr members share personal and business travel plans privately with their networks  and highlight interesting places to stay  eat and explore in cities around the world ',\n",
       "       'the swedish subsidiary holds 10  net smelter return  nsr  royalties over two advanced copper projects in northern sweden  the viscaria and adak projects  being developed by avalon minerals ltd asx  avi ',\n",
       "       'sales rose to 3009 mln eur compared with last year s 2761 mln eur and in line with 299 mln eur consensus figure ',\n",
       "       'qpr product family is fully compatible with microsoft s windows 7 operating system ',\n",
       "       'under the agreement geosentric will provide gypsiipowered hotel information and reservation services to visitors to china  including such popular cities as beijing and shanghai ',\n",
       "       'profit for the period was eur 109 mn  down from eur 143 mn in 2009 ',\n",
       "       'sales at the unit slumped last year after the industry was hit by poor snowfall in the major resorts in the winter of 200607 ',\n",
       "       'rinkuskiai s beer sales fell by 65 per cent to 416 million litres  while kauno alus  beer sales jumped by 69 per cent to 248 million litres ',\n",
       "       'talentum expects that the net sales of its core business will increase in 2008  compared to 2007 ',\n",
       "       'since the association s data do not cover sales figures from about 100 small local breweries and sales of imported beer products  the actual market shares of its members are smaller than those given in the report ',\n",
       "       'the employer  together with health personnel  supports quitting and pays part of the cost of nicotine treatments ',\n",
       "       'dutch publisher de vijver said today it has agreed to buy a 49  stake in belgian weekly magazine humo from finnish media company sanoma hel  saa1v ',\n",
       "       'protalix is developing genetically engineered proteins from plant cells ',\n",
       "       'electronic versions require 2448 hours as each copy is customized to the client with digital controls and custom watermarks ',\n",
       "       'india is high on our priority since business links between our two countries is also expanding   tornstrom said ',\n",
       "       'net sales for the financial year 2006 are expected to amount to about eur20m and the operating result ebit is expected to be a loss  as announced before ',\n",
       "       'nokia was up 012 pct to 1670 eur after kicking off the morning in negative territory ',\n",
       "       'the platform would continue to be the development framework for symbian and meego ',\n",
       "       'about 72  of evraz group shares are owned by lanebrook  whose beneficiaries  on the one hand  are millhouse  the holding company for the assets of billionaire roman abramovich and his business partners 50   and evraz executives alexander abramov and alexander frolov 50   on the other ',\n",
       "       'neste oil said it will build a biodiesel production facility in rotterdam  the netherlands  at an estimated cost of 670 million euros  naming francebased technip as the project s main contractor ',\n",
       "       'we are very excited working with maxis on this first commercial deployment of  master of maya   said joe doering  head of the asia south region at nokia siemens networks ',\n",
       "       'steve jackson  ebusiness analyst at satama and former ceo of aboavista said   google broke the mold when they gave away google analytics for free ',\n",
       "       'pretax profit totaled eur 49 mn compared to eur 52 mn in the first quarter of 2005 ',\n",
       "       'componenta increased its stake in turkish steel company doktas dokumculuk ticaret ve sanayi as to 926 pct stake in march 2007 ',\n",
       "       'currently the quarterly applied surcharges differ significantly from the actual market prices ',\n",
       "       'the agreement was signed with biohit healthcare ltd  the ukbased subsidiary of biohit oyj  a finnish public company which develops  manufactures and markets liquid handling products and diagnostic test systems ',\n",
       "       ' however  the rapidly increasing costs and the strengthening of the euro were challenging for the whole industry  and they impacted on our results  ',\n",
       "       'seller is the finnish elcoteq group  the largest european electronics manufacturing services company ',\n",
       "       'industry in asia \\x88 pakistan  malaysia  taiwan and philippines today  global research  data services is going to publish several market analyses about the cement markets in asia ',\n",
       "       'following the move  stora enso holding in newpage will remain unchanged ',\n",
       "       'certain shareholders have irrevocably agreed to vote in favor of the bond issue ',\n",
       "       'mreal corporation stock exchange announcement 29 september 2006 at 415 pm kyro corporation and mreal corporation  a metsaliitto group subsidiary  have agreed on an arrangement which gives mreal option to purchase the kyroskoski natural gas powerplant from kyro ',\n",
       "       'with the measures  suominen corporation aims to ensure the competitiveness of the flexible packaging business in the long term ',\n",
       "       'with the acquisition  the company will expand its offering to north  central and south america  it said ',\n",
       "       'the contract also includes cutting and edging wagon parts at ruukki s steel service centres in seinajoki and raahe  from where they will be delivered to vr for welding and assembly ',\n",
       "       'ruukki s delivery volumes and selling prices showed favourable development and the company s comparable net sales grew by 50  yearonyear to eur647m  ceo sakari tamminen said ',\n",
       "       'when the negotiations were started  neste oil anticipated that 450 people would be affected ',\n",
       "       ' the enterprise value of the fray bentos pulp mill and forestal oriental totals approximately euro1 6 billion   upm said ',\n",
       "       'finnish bank of land reports operating profit of eur 22 mn in the first quarter of 2010  down from eur 63 mn in the corresponding period in 2009 ',\n",
       "       'mr skogster currently serves as the manager responsible for abb oy s system modules for low voltage drives ',\n",
       "       'the earnings per share for the quarter came in at 025 eur  up from the 020 eur of the same quarter a year earlier ',\n",
       "       'nokia corp of finland tuesday said it has received a unified device managment contract with finnish operator elisa oyj ',\n",
       "       'in the first half of 2008  the bank s operating profit fell to eur 118 mn from eur 189 mn  while net interest income increased to eur 209 mn from eur 188 mn in the first half of 2007 ',\n",
       "       'the cl51 is designed to measure cloud base height and vertical visibility in all weather conditions  which makes it an ideal instrument for meteorological applications that rely on reliable cloud height detection ',\n",
       "       'cargotec s share capital after the increase totals eur 64299180 ',\n",
       "       'consumer products manufacturer fiskars corp will open a distribution and warehouse center in southaven  creating 100 jobs ',\n",
       "       'stora enso s thirdquarter pretax profit doubled to eur 197mn ',\n",
       "       'when the web user clicks on the link contained in the mail  he finds himself on a bogus site that imitates that of his bank  and which retrieves his personal banking data ',\n",
       "       ' this is super nasty   said eric schultze  chief technology officer at shavlik technologies llc  a st paul  minnbased maker of patch management tools ',\n",
       "       'the portfolio comprises of 118000 m2 of leasable space with a vacancy rate of roughly 5   let to around 140 tenants of which two of the largest are the swedish government and ericsson ',\n",
       "       'this is the second successful effort for the financial investor this year ',\n",
       "       'supported nokia phones include  n96  n958gb  n95  n93n931  n92  n85  n82  n81  n80  n79  n78  n77  n76  n75  n73  n72  n71  e90  e71  e70  e66  e65  e62  e61e61i  e60  e51  e50  touch xpress 5800  6220 classic  6210 navigator  6120 classic  6110 navigator  5700  5500  5320xm ',\n",
       "       'the acquisition was financed with  256 billion of debt arranged by goldman  sachs  co ',\n",
       "       'operating profit fell to eur 151 mn from eur 246 mn in 2006 ',\n",
       "       'the ongoing project where tekla structures is being used is the vashi exhibition centre being developed by insteel engineers pvt ltdiivrcl infrastructures  projects ltd  cidco ',\n",
       "       'consumers are now increasingly interested in what they can do with heir phones ',\n",
       "       ' tikkurila inspires you to color your life ',\n",
       "       'martela said plans to expand its recycled furniture business elsewhere in finland  too ',\n",
       "       'i am looking forward to contribute to srv s success with my competence   says taneli hassinen ',\n",
       "       'ebit excluding nonrecurring items was estimated to increase from 2009 ',\n",
       "       'as capacity was cut with 14   the passenger load factor was down 78 percentage points ',\n",
       "       'as a consequence the works council had withdrawn its petition to suspend the reorganisation ',\n",
       "       'oppohjola group s capital adequacy ratio under the act on credit institutions stood at 121  and tier 1 ratio at 121  ',\n",
       "       'the transaction was announced on september 29 when pohjola insurance agreed to pay eur 80 million  usd 1063 m  in cash for pohjantahti ',\n",
       "       ' we have tailored our solutions to meet solel s technical requirements  and the result is both costeffective manufacturing and highestquality reflectors  ',\n",
       "       'finnish financial solutions developer basware corporation  omx helsinki bas1v  said on tuesday  23 september  that it will deliver a complete invoice automation solution to a large us engineering  construction and technical services organization ',\n",
       "       'vaisala s expertise in lightning data and information systems is based on extensive experience and investment in rd ',\n",
       "       'atria group is a leading scandinavian meat products group ',\n",
       "       'no compensation for its news  opinions or distributions ',\n",
       "       'the company negotiated an amendment to the financial covenants of the present credit agreements in regard to the situation on 30 september 2010 ',\n",
       "       'the value of the order is usd 23 mn ',\n",
       "       'compared with the ftse 100 index  which rose 949 points  or 16   on the day  this was a relative price change of 04  ',\n",
       "       'vacon recently announced plans to build its north american headquarters at 5 business park in chambersburg ',\n",
       "       'the federal secretary for transport and communication of mexico has awarded poyry and its mexican partner sintra a consulting contract in connection with the buenavistacuautitlan suburban railway ',\n",
       "       'in addition  we will launch a versatile online service to complete the traditional printed newspaper  mr valkama says ',\n",
       "       'in finland  martela offers a comprehensive service that can cover the entire process of change from initial inventory and design to removal and maintenance ',\n",
       "       'the capital structure of solidium may be complemented by other financial instruments in the future ',\n",
       "       'the fair value change of investment properties was eur 158 mn  compared to eur 229 mn in the third quarter of 2009 ',\n",
       "       'the tanks will be delivered to a company which is currently building a chemical tank farm in antwerp  northern belgium ',\n",
       "       'on wednesday he announced that the government would propose granting a licence for two reactors  one to be built by fennovoima  and the other by tvo ',\n",
       "       'the decision of tekes was based on  among other  the following grounds  the project has a significant impact on the business development of the company ',\n",
       "       'body the credit falls due february 24  2014 ',\n",
       "       'compared with the ftse 100 index  which rose 283 points or 05  on the day  this was a relative price change of 23  ',\n",
       "       '26 november 2010  finnish sportsequipment maker amer sports oyj  hel  ameas  said today it has obtained a eur30m schuldschein note loan from a pool of international investors ',\n",
       "       'all rights reserved ',\n",
       "       'the company plans to close two of the three lines at the plant  where some 450 jobs are under threat ',\n",
       "       'rosen was cautious about being too optimistic inregard to the second half of the year ',\n",
       "       ' we love activision s fresh  colorful approach to rapala  we fish   said kelly brockpahler  rapala ',\n",
       "       'finnish pharmaceuticals company orion s net sales rose to eur 190mn in the first quarter of 2009 from eur 180mn in the first quarter of 2008 ',\n",
       "       'the program included operational improvements and reductions in personnel  mainly in the netherlands ',\n",
       "       'cash flow from operations totalled eur 271 mn  compared to a negative eur 083 mn in the corresponding period in 2008 ',\n",
       "       'ollipekka kallasvuo was elected as vice chairman of the board ',\n",
       "       'no other ev3 devices were involved in this action ',\n",
       "       'qpr processguide is available as a system solution with centralized storage and management of process content as well as a standalone desktop version  qpr processguide xpress ',\n",
       "       'nordea pankki suomi oyj  according to previously announced  has made forward contracts on alma media corporation shares ',\n",
       "       'citigroup  inc  nyse  c  has announced that its global transaction services  gts  business has been awarded a new mandate by finlandbased pohjola bank group ',\n",
       "       'the pulp production in finnish kemijærvi will also be liquidated and about 1100 employees loose their jobs ',\n",
       "       'however  the growth margin slowed down due to the financial crisis ',\n",
       "       'the contract covers the supply of temporary heating equipment for lkab s new pellet plant in kiruna  in northern sweden ',\n",
       "       'according to mreal s ceo  mikko helander  this transaction will enable the company to proceed swiftly with its restructuring program ',\n",
       "       'auburn s sales in 2007 were cad 41 million  approximately eur 27 million   and the company employs some 150 people ',\n",
       "       'financial terms were not disclosed ',\n",
       "       'the apple inc iphone wo nt change the game plan for verizon communications inc  chief executive ivan seidenberg said wednesday ',\n",
       "       'in the first nine months of 2010  the company s net loss narrowed to eur 415000 from eur 74 million for the corresponding period of 2009 ',\n",
       "       'therefore  the company s 2005 result will remain weaker than that of 2004 ',\n",
       "       'singapore in may 2011 1 july 2010  finnish air carrier finnair oyj  hel  fia1s  said today it will open a daily route to singapore on 30 may 2011 as part of its growth strategy in asia ',\n",
       "       'the aim of the bridge solutions chosen is to minimize construction times while ensuring that traffic beneath the bridge on the saimaa canal continues undisturbed ',\n",
       "       'an individual promotion also generated slightly higherthanexpected revenues ',\n",
       "       'finnish geosentric  a developer and provider of solutions  products  and technologies for location based services  has preliminary agreed on a eur 6mn shortterm funding with its leading investor ',\n",
       "       'ebitda for the year 2009 improved to eur484m  as compared with eur472m in 2008 ',\n",
       "       'the transaction is expected to be completed next spring ',\n",
       "       'in 2006  the company intends to invest significantly in expanding its distribution and maintenance network ',\n",
       "       'sales for both the department store division and hobby hall increased by 7   while sales for the clothing store subsidiary seppala decreased by 4  ',\n",
       "       'the transaction is subject to a final agreement between the parties  approvals of their decisionmaking bodies and approval by the finnish competition authority ',\n",
       "       'the company said that the results of the third quarter do not include nonrecurring items ',\n",
       "       'it is estonia s secondlargest meat processing company by market share  according to ac nielsen s 2008 data  13 percent  ',\n",
       "       'the desk will reach its full planned strength of ten persons in autumn 2007 ',\n",
       "       'teleste s hybrid tv solution includes components for the whole process of delivering video services to consumers from content acquisition and service creation to delivery through a range of access solutions  including hfc  hybrid fibrecoaxial   xdsl  etth  and ftth ',\n",
       "       'finnish forest machinery and equipment maker ponsse oyj said on october 5  2007 it will deliver a total of 67 cuttolength method forest machines and 44 harvester heads to brazilian paper maker bahia pulp and to unnamed uruguayan wood harvesting contractors ',\n",
       "       'the members of the management team will contribute to the adjustment measures with temporary salary cut of 5  ',\n",
       "       'its total annual revenue comes up to about 160 mln zloty   569 mln42 3 mln euro  ',\n",
       "       'earlier today  geberit s finnish rival uponor oyj cut its fullyear sales growth forecast to 6 pct from 10 pct  blaming tough conditions in germany and the us  as well as currency factors ',\n",
       "       'the shares represented 4998  of total share capital and 214  of total voting rights ',\n",
       "       'cdp was established on the initiative of institutional investors  however  the annually published results also interest an increasing number of customers and other interest groups of the reporting companies ',\n",
       "       'so mr galvan made savings adjustments of his own  buying less liquor and watching portion sizes ',\n",
       "       'according to preliminary data from slovakia s statistics office  goods worth e36 4 million were imported from finland between january and october 2010  making up 01 percent of slovakia s total imports ',\n",
       "       'in connection with the deal  digia will employ 19 persons from nokia in oslo and in silicon valley in the usa ',\n",
       "       'yit s baltic sales in the first three quarters of 2008 totaled 1062 million euros  representing a drop of 29 percent year on year ',\n",
       "       'financialwire  tm   in cooperation with the investrend broadcast syndicate  also provides complete  daily conference call and webcast schedules as a service to shareholders and investors via the firstalert  tm  networks oefirstalert  tm  daily ',\n",
       "       'in accordance with our strategy  we strengthened our local presence by establishing a representative office in south africa in october ',\n",
       "       'measures will be launched immediately and are due to be finalized in the first quarter of 2010 ',\n",
       "       'in finland s hobby hall s sales decreased by 10   and international sales fell by 19  ',\n",
       "       'the corresponding share capital increase  eur 101294550 was entered in the trade register today ',\n",
       "       'an  of the invention  released by the patent office  said   the chambers are pressurized ',\n",
       "       'the shops are located in the capital region and the paijathame region ',\n",
       "       'the estonian beverages maker a le coq today brought to the market a new premium class beer  a le coq special  investing 6 million kroons eur 383000 into its development and planning to sell three million liters of the beer during the next year ',\n",
       "       'glaston s share gla1v is listed on the nasdaq omx helsinki  mid cap list ',\n",
       "       'in the end of 2006  the number of outlets will rise to 6070 ',\n",
       "       'metso foundries jyvaskyla  inc will begin personnel negotiations on temporary layoffs and personnel reductions in jyvaskyla  finland ',\n",
       "       'the respondents praised finnair s reliability  finnishness  and understanding of its target group ',\n",
       "       ' lining stone sales were also good in the early autumn  and order books are strong to the end of the year ',\n",
       "       ' the intel atom processor has had tremendous success in the marketplace since its launch over 2 years ago   said pankaj kedia  director of global ecosystem programs for intel corp s ultra mobility group ',\n",
       "       'raute posted a net profit of 18 mln euro  26 mln for the third quarter of 2007  compared to a net loss of 299000 euro  430000 for the corresponding period of 2006 ',\n",
       "       'the aim is to convert the plants into flexible manufacturers of new and technologically demanding products ',\n",
       "       'the bond  with a maturity of five years  is part of the bank s domestic bond program ',\n",
       "       'the utility will also provide services related to electricity management  such as hedging trades and risk management and reporting ',\n",
       "       ' our approach is very much to only use raw materials that are produced in line with the principles of sustainable development ',\n",
       "       'swedbank hypotek  is to issue a benchmark  fixed rate covered deal in euros  maturing january 2010 ',\n",
       "       'in the czech republic  the smaller profiling unit at ostrava will be closed and the machinery will be gradually relocated to ruukki s bigger plants in hungary  poland and romania by the end of the first quarter of 2009 ',\n",
       "       'helsinki  afx   shares closed higher  led by nokia after it announced plans to team up with sanyo to manufacture 3g handsets  and by nokian tyres after its fourthquarter earnings report beat analysts  expectations  dealers said ',\n",
       "       'the new facility  to be known as technopolis pulkovo  will introduce to the russian market an entirely new concept of creating  operating and growing a commerciallyfunded science and technology park to support the growth of knowledgeintensive companies ',\n",
       "       'i can say categorically  no   wahlroos was quoted as saying by the paper  when asked about sampo s interest in making a bid for rsa ',\n",
       "       'adjusted for changes in the group structure  the division s net sales increased by 17  ',\n",
       "       'jarmo honkamaa  head of the oil refining business at neste oil  says the situation looks promising from their viewpoint ',\n",
       "       'lsc s 30 employees will move to ixonos with their existing status and benefits ',\n",
       "       'a total of 185 wonderware certified sis are available to integrate and support wonderware products such as intouch \\x8b hmi software  industrialsql server historian  wonderware information server  dt analyst software or qi analyst spc software ',\n",
       "       'combining the two producers will create a strong eubased fertilizer industry capable of meeting global competition  they added ',\n",
       "       'according to lænnen tehtaat s ceo matti karppinen  the company aims to deliver fish products to its customers a day earlier than it currently does ',\n",
       "       'equipment will be manufactured in vaahto s workshop in hollola  finland and is scheduled for shipments during the first quarter of 2009 ',\n",
       "       'operating profit rose to eur 135 mn from eur 97 mn in the corresponding period in 2006 ',\n",
       "       'according to the notification  the holdings of ameriprice inc and its group companies are now in total 808973 shares  which represent 3582  of tekla \\x93 s shares and voting rights ',\n",
       "       'the company said that it will supply the wcdma 3ghspa radio network  including the modular  high capacity nokia flexi wcdma base station in east java  bali  sumatra and batam ',\n",
       "       'the group s revenue amounts to over eur 80 million  about half of which is accounted for by exports ',\n",
       "       'the whitehall street real estate funds invest in real estate and real estate related assets  principally through the acquisition of real estate companies  real property and mortgage loans ',\n",
       "       'the maximum grade of the veneer yield is calculated  based on the dimensions and grades of the veneer products  as well as by iterating the places of the peeling axes and simulating the peeling process ',\n",
       "       'as a part of the agreement 10 employees from the john deere forestry documentation functions will transfer to dokumentori oy ',\n",
       "       'after the transaction  tikkurila has no powder coatings related operations ',\n",
       "       'the contract covers the manufacturing  surfacetreatment and installation of the steel structures ',\n",
       "       'genvec is a biopharmaceutical company developing novel therapeutic drugs and vaccines ',\n",
       "       'below are unaudited consolidated results for aspocomp group under ifrs reporting standards ',\n",
       "       'performance is based on values and sustainability ',\n",
       "       'the name of the buyer was not disclosed ',\n",
       "       'elisa corporation  headquartered in helsinki  is a finnish telecomms company offering private and corporate customers a comprehensive range of telecomms services ',\n",
       "       'the flagship will open this fall in manhattan s flatiron district in the  toy building   at 200 fifth avenue ',\n",
       "       '  munich  14 january 2008  bavaria industriekapital ag closed the acquisition of elcoteq communications technology gmbh in offenburg  germany  with the approval of the',\n",
       "       'kesko has about 2000 stores engaged in chain operations in the nordic and baltic countries  russia  and belarus ',\n",
       "       'in the baltic countries  sales fell by 426  ',\n",
       "       'sales have risen in other export markets ',\n",
       "       'compared with the ftse 100 index  which rose 367 points  or 06   on the day  this was a relative price change of 02  ',\n",
       "       'the divested activities had net sales of eur 1451 million in 2009 and an operating profit of eur 89 million ',\n",
       "       'operating profit totaled eur 177 mn compared to eur 176 mn in the corresponding period in 2007 ',\n",
       "       'peigs wwwpeigsse will become part of sardus latta maltider light meals unit ',\n",
       "       'some 38 mln euro   52 mln  of the base acquisition price will be paid in cash and the rest through a subscription offering of a total of 850000 new ixonos shares ',\n",
       "       'the company s share is quoted on nasdaq omx helsinki rautaruukki oyj  rtrks ',\n",
       "       ' this transaction supports huhtamaki s strategic review of rigid plastic consumer goods operations   says huhtamæki oyj s ceo jukka moisio ',\n",
       "       'it therefore seems that finnish shipping company viking line will get the subsidy it needs to order its new lngfuelled vessel ',\n",
       "       'the report profiles 614 companies including many key and niche players worldwide such as black  decker corporation  fiskars corporation  fiskars brands  inc  husqvarna outdoor products inc  ks group  ryobi technologies  inc  the scotts miraclegro company  and van group  inc ',\n",
       "       'a meeting for the media and analysts will be held on the same day at 1030 am at stonesoft headquarters in helsinki  italahdenkatu 22 a the interim report will be presented by stonesoft s ceo ilkka hiidenheimo ',\n",
       "       'aspocomp group oyj stock exchange release december 15  2006 at 450 pm according to the disclosure received today by aspocomp group oyj  the share of henrik nyberg in aspocomp group oyj s share capital and votes has decreased below 5 percent ',\n",
       "       'the dividend will come on top of the 045 eur on a shares and 043 on k shares it has already paid on last year s accounts ',\n",
       "       'the deal also includes a tenyear maintenance agreement ',\n",
       "       'a cut above bring the outdoors in with these birchbranch coasters ',\n",
       "       'wellness services will be important in the future ',\n",
       "       'synergy benefits will start to materialise in the second quarter ',\n",
       "       'votorantim celulose e papel  vcp  is part of the votorantim group  a major brazilian conglomerate ',\n",
       "       'the bank of land acquired the private banking business  asset management  and share brokerage business of kaupthing sweden in early 2009 ',\n",
       "       'the business transfer will take effect from 1 january 2007  and in connection with this 47 employees will transfer from elisa to daxtum as continuing employees ',\n",
       "       'okmetic expects its net sales for the first half of 2009 to be less than in 2008 ',\n",
       "       'according to kesko  the company agreed with the city administration about lease of the building in 2006  its resettlement and construction of a fivestar hotel hilton for 120 rooms ',\n",
       "       'finnair s passenger load factor  which measures the number of sold seats as a share of all available seats  dropped by 13 percentage points to 767  in september ',\n",
       "       'in finland  the five largest brands control 90  of the beer market ',\n",
       "       'in terms of power generation  fortum produced 393 twh of electricity during the first nine months of 2006  compared with 380 twh during the same period in 2005  according to figures released in the group s latest financial results ',\n",
       "       'operating loss totalled eur 127 mn  compared to a profit of eur 177 mn in the first half of 2008 ',\n",
       "       'alma media holds 70  of this company  the remaining shares being owned by the company s key employees ',\n",
       "       'the number of salaried employees and group administration employees to be dismissed from the sievi units is 17 ',\n",
       "       'applying for summer work is seen as laborious and stressful ',\n",
       "       'net interest income was eur 1522 mn  up from eur 1010 mn in 2008 ',\n",
       "       'fiskars brands report net sales of eur 1458 mn  up from eur 1384 mn ',\n",
       "       'to check them out or to make a bid they will be in the deka showroom  fortitude valley ',\n",
       "       'rivals say qualcomm has fewer patents on 3g phones than on earlier versions and should lower its rates ',\n",
       "       'the newly created position has been established to strengthen amer sports  management in strategic planning and execution ',\n",
       "       'why put up costly cell phone towers in thinly populated areas when a few balloons would do ',\n",
       "       'progress group  qpr s representative in saudi arabia and north africa  has signed a framework agreement for a long term strategic relationship with ise ',\n",
       "       ' following last year s good profit development  we have entered the current year in a good position ',\n",
       "       'more than 14000 customers were left powerless ',\n",
       "       'yit corporation sept 24  2007 at 1330 corporate release stock exchange release yit s capital markets day in london  sept 26  2007 on wednesday  september 26  2007  yit will hold a capital markets day for investors and analysts in london ',\n",
       "       'the share subscription period for c options will commence on 1 september 2008 and expire on 31 march 2011 ',\n",
       "       'the business had gross written premiums of eur152 4 m   915 m  in 2000  a net combined ratio of 133  and 175 staff in total with offices in the uk  germany and benelux ',\n",
       "       'creating interfaces that are more similar to interactions in the real world can enable experiences that are more natural and intuitive  in the same way that modern games and movies are more immersive through the use of realistic 3d graphics ',\n",
       "       'the company said shareholders will be able to vote on the agreement at an egm scheduled for later this month ',\n",
       "       'the company s operating income  ebit  totalled eur 00 mn  up from eur 03 mn yearonyear ',\n",
       "       'these financing arrangements will enable the company to ensure  in line with its treasury policy  that it has sufficient financial instruments at its disposal for its potential capital requirements ',\n",
       "       'results are expected late in 2006 ',\n",
       "       'net sales by the sataflexo group came to some eur4 3 m in 2007  and the group companies employed a total of 40 people ',\n",
       "       'a data processing unit collects the data  calculates rvr values and provides the data to users via various interfaces ',\n",
       "       'if honkarakenne starts production there  it will need a partner for sawmill operations ',\n",
       "       'operating profit improved by 167  to eur 77 mn ',\n",
       "       'sports equipment sales also progressed well owing to the prolonged winter season ',\n",
       "       'the company said offshore segment represented 43  of the total marine engines orders for the julyseptember 2010 period  merchant 33   special vessels 18   and cruise and ferry  and ship design  2  and 3   respectively ',\n",
       "       'the company still expects its turnover in 2010 to slightly increase from the level of 2009  adding that  market predictability is still too poor for trustworthy forecasts on the market development of the contract manufacturing business during the current year  ',\n",
       "       'he confirmed his view on july 6 ',\n",
       "       'in the third quarter  net sales increased by 12  yearonyear to eur 1595 million  or by 6  at comparable currency rates growth ',\n",
       "       'with sales of  127 billion over the last twelve months ending october  2010 and over 9200 stores in 35 states  dollar general is the nation s largest small box discount retailer ',\n",
       "       'adpnews  dec 23  2009  norwegian financial services group sparebank 1 gruppen as osl  sbgrp said its board of directors appointed today jarle haug managing director of its claims collection subsidiary sparebank 1 gruppen finans',\n",
       "       'as of august 2008  glaston s north asian sales and service region is upgraded to a new market area  north asia ',\n",
       "       'according to aktia asset management  finnish analysts  forecasts for 2009 are still too high ',\n",
       "       'aspo s net sales in 2006 totaled eur 2259 million ',\n",
       "       '15 november 2010  finnish energy company fortum oyj hel  fum1v said today it and partners started negotiations to establish a new operating model for energy supply in the turku region of western finland ',\n",
       "       'operating profit was eur 01 mn  down from eur 13 mn ',\n",
       "       'local government commissioner of ml  kurt svensson  says he will contact the management of finnish company componenta to find out if there are any alternatives to the company s decision to close down its plant in ml ',\n",
       "       'the measures result from the statutory joint negotiations with employees which started in february and concerned all operations in the country ',\n",
       "       'the new agreement  which expands a longestablished cooperation between the companies  involves the transfer of certain engineering and documentation functions from larox to etteplan ',\n",
       "       'the difference can be explained by the fact that two shipping companies have stopped operating in the gulf of finland ',\n",
       "       'london icis  tikkurila has completed the sale of its powder coatings business to finnish industrial coatings firm teknos group  the finlandbased decorative paints company said on wednesday ',\n",
       "       'increased trust of our clients in yit can be seen as apartment sales accelerated ',\n",
       "       'credit 20 november 2009  finnish glass technology company glaston oyj abp  hel  gla1v  said today it concluded a eur74m revolving credit facility agreement with its core banks ',\n",
       "       'it has some 30 offices worldwide and more than 90 pct of its net sales are generated outside finland ',\n",
       "       '17 march 2011  goldman sachs estimates that there are negative prospects for the norwegian mobile operations of norway s telenor asa osl  tel and sweden s teliasonera ab sto  tlsn in the short term ',\n",
       "       'london marketwatch  nokia nok said it s won a fiveyear services contract to run hutchison essar s network operations in nine locations in india ',\n",
       "       'london afx  fortum said it has agreed to sell its industrial maintenance service operations to funds managed by capman for an undisclosed sum ',\n",
       "       'capman has six investment areas capman buyout  capman technology  capman life science  capman russia  capman public market and capman real estate  and each of them has a dedicated team and funds ',\n",
       "       'the transaction included also the transfer of the lease agreement concerning manufacturing premises and employment agreements related to these operations ',\n",
       "       'at the request of finnish media company alma media s newspapers  research manager jari kaivooja at the finland futures research centre at the turku school of economics has drawn up a future scenario for finland s national economy by using a model developed by the university of denver ',\n",
       "       'the company plans to increase the unit s specialist staff to several dozen  depending on the market situation during 2010 ',\n",
       "       'net sales revenue per passenger is expected to increase ',\n",
       "       'at 1033 am  huhtamaki was the market s biggest faller  869 pct lower at 1135 eur  while the omx helsinki 25 was 032 pct higher at 333241  and the omx helsinki was up 047 pct at 1168732 ',\n",
       "       'goodwill and other intangible assets account for some 20 mln euro   26 mln  of the purchase price  20 pct of which payable in aspo shares ',\n",
       "       'this corresponds to 681 percent of okmetic s share capital and voting rights ',\n",
       "       'operating profit excluding nonrecurring items decreased to eur 62 mn from eur 168 mn in 2007  representing 23  of net sales ',\n",
       "       'the company is studying the feasibility of focusing most of its processed meat production in the vantaa facilities and the processing of fresh meat in the forssa facilities ',\n",
       "       'jun 25  2008  boy genius report delivered by newstex   the nokia  nyse  nok  n78  huh ',\n",
       "       'finnish department store chain stockmann oyj abp net profit rose to 398 mln euro   568 mln  for the first nine months of 2007 from 374 mln euro   534 mln  for the same period of 2006 ',\n",
       "       'it will combine and renew the contents and functionality of the current systems for funding and online service as well as their maintenance ',\n",
       "       'it also has potential clients in the growing environmental and recycling technology sectors ',\n",
       "       'the parties have agreed not to disclose the transaction value ',\n",
       "       'los angelesbased pacific office properties trust acquires  owns  and operates office properties in the western us  focusing initially on the markets of honolulu  san diego  los angeles  and phoenix ',\n",
       "       '26 january 2011  finnish metal products company componenta oyj  hel  cth1v  said yesterday its net loss narrowed to eur500 000 in the last quarter of 2010 from eur5 3 m for the same period a year earlier ',\n",
       "       'first quarter underlying operating profit rose to 41 mln eur from 33 mln a year earlier ',\n",
       "       'sanoma will continue to focus on investing in digital media and on strengthening its market positions ',\n",
       "       'the cost of the deal could range from 70 million to 90 million euros depending on the financial results of the two companies in 2008  the statement says ',\n",
       "       'when this investment is in place  atria plans to expand into the moscow market ',\n",
       "       'earnings per share eps amounted to eur0 01 ',\n",
       "       'as part of the transaction  mreal and sappi have also signed a longterm agreement on the supply of pulp and bctmp and other smaller services and supplies ',\n",
       "       'madison  wis  feb 6  prnewswire   fiskars announces that the united states patent and trademark office has granted a trademark registration for the color orange on its iconic scissor handles ',\n",
       "       'nokia controls more than 50 percent of phone sales in india and africa  and has a strong prosition on most other emerging markets ',\n",
       "       'the adjustments concern staff in both the specialty papers and the fiber composites segments ',\n",
       "       'revenue grew by 2 percent to  x20ac 580 million  743 million  from  x20ac 569 million ',\n",
       "       'in 2005 the bank posted a net profit of lt 82 mn ',\n",
       "       'yakima created the position for him after emerging from economic downturns of its own ',\n",
       "       'the company had net sales of eur 108 million in 2008  and today has approximately 120 employees in finland  estonia and poland ',\n",
       "       'finnish vacon has signed significant deals with norwegian scandinavian electric systems  ses  on the supply of ac drives ',\n",
       "       'westend ict plc s new 409665891 shares and increase of share capital with eur 2000000 based on the resolutions of extraordinary shareholders meeting on 27 december 2010 have today registered in the trade register ',\n",
       "       'aug 31  2009 gawker media delivered by newstex if you love fishing video games but felt that there just was nt enough wackiness involved  then activision s nasdaq  atvi rapala  we fish might just catch your eye with its familyfun hook ',\n",
       "       'tekla group s net sales for 2006 were approximately 50 million euros and operating result 136 million euros ',\n",
       "       'in september alone  the market declined by 102 percent yearonyear to 1928 million liters ',\n",
       "       'honkarakenne also decided yesterday to sell 88500 of its bseries shares to key staff members for eur 290 per share ',\n",
       "       'the company said that its comparable operating profit for the januaryjune period fell short of last year s corresponding performance ',\n",
       "       'the machinery now ordered will be placed in a new mill with an annual production capacity of 40 000 m3 of overlaid birch plywood ',\n",
       "       'according to nordic financial group nordea s analyst sami sarkamies  this makes nokia s portfolio competitive again ',\n",
       "       'finnish investment group panostaja oyj said its net profit went up to 86 mln euro  114 mln in fiscal 200506  ended october 31  2006  from 28 mln euro  37 mln in the same period of fiscal 200405 ',\n",
       "       'as a result  the russia s import restrictions on finnish dairy companies will be canceled on 6 august 2010 ',\n",
       "       'in the third quarter  net sales increased by 12  yearonyear to eur159 5 m  or by 6  at comparable currency rates growth ',\n",
       "       'an appeal concerning the project has been lodged at the czech ministry of the environment ',\n",
       "       'in complying with the european water framework directive requirements  the pretreatment unit will be fully renovated  including hydraulics of waste water inception  degridding  sand and grease removal and treatment and deodorization of the unit ',\n",
       "       'officials did not disclose the contract value ',\n",
       "       'the company booked apriljune new orders worth 949 mln eur  compared with 786 mln eur in the same period a year ago ',\n",
       "       'operating profit rose to eur 311 mn from eur 122 mn in the corresponding period in 2009 ',\n",
       "       'the increase range will vary up to 10  ',\n",
       "       'componenta has production lines for similarsized products at karkkila in finland  at weert in the netherlands and at orhangazi in turkey  and these had a combined output of approximately 100000 tonnes and net sales of eur 135 million in 2007 ',\n",
       "       'the ten year rent contract with the right of prolongation on the existing terms  was signed between stockmann and the owner of the shopping center in 1998 ',\n",
       "       'poyry is a global expert in consulting and engineering ',\n",
       "       'the company had net sales of eur 198 mn and a pretax profit of eur 18 mn in 2005 ',\n",
       "       'no financial details were disclosed ',\n",
       "       'suomen paikallissanomat oy is part of alma media group and it currently publishes 15 local newspapers across finland ',\n",
       "       'earnings per share  eps  for the first quarter 2007 amounted to eur0 07  up from eur0 04 ',\n",
       "       'the construction project is scheduled to start in the second quarter of 2009 and the new building is scheduled to be in place by the end of 2010 ',\n",
       "       'earnings per share  eps  amounted to eur1 37  down from eur2 30 ',\n",
       "       'the service is intended to allow the people of thirteen mediterranean countries to reach the baltic more rapidly  with a single carrier ',\n",
       "       '1 november 2010  finnish textile and clothing company marimekko oyj  hel  mmo1v  announced on friday the opening of its first concept store in seoul in cooperation with japanese sector player look inc  tyo  8029  ',\n",
       "       'the oxyview pulse oximeter is a common device to check patient bloodoxygen saturation level and pulse rate ',\n",
       "       'the report profiles 158 companies including many key and niche players including major nonwovens manufacturers such as ahlstrom corporation  asahi kasei corporation  buckeye technologies  inc  ei ',\n",
       "       'the brazilian unit of finnish security solutions provider fsecure signed up 1500 new clients last year  online news source reseller web quoted the division s commercial director  vladimir brando  as saying ',\n",
       "       'net sales surged by 30  to eur 36 million ',\n",
       "       'currently  the company uses eight similar reach stackers and four empty container handlers by konecranes ',\n",
       "       'increase in the number of shares is based on the option rights which were granted to the management of the company under the stock option plan 2006 ',\n",
       "       'currently glaston employs approximately 1500 persons ',\n",
       "       'community gardening has become a popular activity  especially to raise vegetables ',\n",
       "       'the company also expects to sell its products in other russian region ',\n",
       "       'sanoma corporation wants a new and better frequency for the helsinki metropolitan area ',\n",
       "       'mr kivimeister said john deer former timberjack stands to win in the situation  it controls around 60  of estonia s forest machinery market ',\n",
       "       'the point village  designed by scott tallon walker  will include a shopping center  office premises  a hotel and a cinema ',\n",
       "       'kone shares dropped 41 percent to  x20ac 43 us 5577 in helsinki ',\n",
       "       'the second variant offers complete final finishing of any selected apartment with foreign high quality materials  finland  denmark  germany  france  ',\n",
       "       'sullivan said some of the boards  really involve a lot of work  and people should get paid for their time  ',\n",
       "       'operating profit for the threemonth period increased from eur1 2 m  while revenue increased from eur20 2 m  as compared to the corresponding period in 2005 ',\n",
       "       'z bavelloni s longstanding md  dino bavelloni  has retired at the end of 2005 ',\n",
       "       'shares of standard chartered  stan  rose 12  in the ftse 100  while royal bank of scotland  rbs  shares rose 2  and barclays shares  barc   bcs  were up 17  ',\n",
       "       'according to tyrvæinen s estimation  japan is a very essential location in terms of finnair s asian strategy ',\n",
       "       'sales in local currencies decreased by 05 percent while the number of subscribers rose by 127 million to a total of 1476 million at the end of fourth quarter  the company said ',\n",
       "       'a spokeswoman for the italian fashion house declined comment on the settlement ',\n",
       "       'helsinki 19 may 2010  finnish company lemminkainen oyj  hel  lem1s  said today that it will construct an office building at toolonlahti in downtown helsinki  without disclosing financial details ',\n",
       "       'retail chain suomen læhikauppa was given the index 58  airline sas 58  teliasonera s broadband 61  german retail chain lidl 61  tele finland s mobile subscriptions 61  tallink shipping line 63  and power company helsinki energy 63 ',\n",
       "       'the business area s net sales were slightly over 2m in 2006 ',\n",
       "       'it has been agreed with the company s board of directors that she will be available in an advisory role ',\n",
       "       'in 2006 the company s net sales amounted to approximately eur259m and it has some 8000 employees ',\n",
       "       'the subsidiary will be responsible for filter sales  local assembly of filters and after market services in china ',\n",
       "       'bids or offers include at least 1000 shares and the value of the shares must correspond to at least eur4 000 ',\n",
       "       'technopolis has set aside a plot of land measuring 46 hectares to build the park  mikkonen said ',\n",
       "       'the company expects net sales of 65 mln euro   851 mln  for 2006 ',\n",
       "       'the contracts have been signed to acquire uranium produced at the sotkamo nickelzinc mine in eastern finland owned by talvivaara ',\n",
       "       'nokia s us shares were 33 percent lower at  1273 by 1750 gmt ',\n",
       "       'our standardised services have met with a positive reception among our customers as well as at itella ',\n",
       "       'finnish investor scanfil oyj  hel  scf1v  said last friday it has bought 57 million shares  or 3296   in norwegian contract electronics manufacturer kitron asa  osl  kit  for nok 1439 million  usd 244 meur 181 m  ',\n",
       "       'rautalinko was resposnible also for mobility services  and his job in this division will be continued by marek hintze ',\n",
       "       'the effect may remain shortlived  however ',\n",
       "       'operating profit totalled eur 122 mn  down from eur 356 mn in the first quarter of 2008 ',\n",
       "       'dmasia16 august 2006benefon extends manufacturing capability with asmobile  2006 digitalmediaasiacom  dma ltd ',\n",
       "       'the chain is to unite 4550 centres by the end of 2008 ',\n",
       "       'however  in march 2009  the government of st petersburg passed the front part of the building with the area 1900 square metres and a land plot for a hotel worth usd 1015mn to the company delta ',\n",
       "       'the engine has an electrical output of 18321 kw  making it the largest gas powered generating set in the world ',\n",
       "       'the diluted loss per share narrowed to eur 027 from eur 086 ',\n",
       "       'finnish industrial investor panostaja oyj omx helsinki  pnaas omx helsinki  pnabs said on friday 11 july that it has signed a deal to acquire the entire share capital of kospa oy  the manufacturer of waste disposal equipment ',\n",
       "       'savon koulutuskuntayhtyma  finland based company has awarded contract for specialist agricultural or forestry machinery ',\n",
       "       'operating profit totaled eur 67 mn  down from eur 72 mn in the corresponding period in 2005 ',\n",
       "       'the size of the extension  185  of which already has been let  will have a gross area of about 2830 sq m 30460 sq ft ',\n",
       "       'revenue for the quarter totaled 274 billion  down 2 percent from 281 billion in the fourth quarter in 2008 ',\n",
       "       'the number of bodily injury cases quadrupled in 20002006 ',\n",
       "       'it moved into the no 2 spot in 2000 when it merged steel operations with avesta sheffield to form avestapolarit ',\n",
       "       'the sale of the food potato business is part of raisio s plan to streamline and clarify its business operations ',\n",
       "       'according to seikku  the retail sector in finland is controlled by 34 large actors  while food manufacturers are still relatively small ',\n",
       "       'the group also plans to launch the 270 room atria grand  whitefield  a five star luxury hotel  in 2009 ',\n",
       "       ' we continued actively to focus rd and to position our offering away from point solutions towards dynamic endtoend solutions   ervio stated ',\n",
       "       'finnish stainless steel manufacturer outokumpu in degefors is planning to recruit new engineers in order to meet a retirement wave over the next few years ',\n",
       "       'tiimari  the finnish retailer  reported to have geenrated quarterly revenues totalling eur 13 mn in the 4th quarter 2009  up from eur 03 mn loss in 2008 ',\n",
       "       'elektrobit  eb  has renewed its it infrastructure contract with ict services provider fujitsu services for eb s patja service ',\n",
       "       'revenue in july to september grew 14 percent to  euro  467 million from a year earlier  the company said thursday ',\n",
       "       'the mill will have capacity to produce 500000 tonnes of pulp per year ',\n",
       "       'finnish metal components supplier componenta oyj said its net profit went up to 35 mln euro  45 mln in 2006 from 22 mln euro  28 mln in 2005 ',\n",
       "       'national sponsors for the big read include national endowment for the arts in cooperation with the institute of museum and library services and arts midwest ',\n",
       "       'the group s consolidated net sales for 2008 totaled 34 billion euros and it employs approximately 13000 persons ',\n",
       "       'this would be a huge process ',\n",
       "       'significance  teleste has emphasised that with its large size and growing economy  as well as the rapid development of its tv services distribution industry  poland is viewed as an attractive market ',\n",
       "       'due to rapid expansion  the market share of tallink in terms of passenger carriage through tallinna sadam port of tallinn totaled 55 percent in november against 457 percent in november 2005 ',\n",
       "       ' we are pleased to deliver the basware invoice automation solution to a major retail company in the us ',\n",
       "       'key reasons to read this report   report contains only relevant information  leaving out excessive data ',\n",
       "       'the  buy  recommendation was reiterated ',\n",
       "       'all yit capital markets day materials will be available on the company s internet site at wwwyitgroupcominvestors at 1030 on september 26 ',\n",
       "       'the following information was released by comptel  tomorrow the chairman of the federal communications commission is scheduled to deliver the national broadband plan to congress ',\n",
       "       'the sale of savcor face to cencorp will result in a profit or loss which can not yet be determined  owing to factors including the valuation of the consideration shares to be received and prevailing exchange rates ',\n",
       "       'our customers come from the following countries  uk  usa  spain  france  italy  germany  china  hong kong  sweden  norway  netherlands  austria  belgium  switzerland  czech republic  finland  canada  russia  ukraine  denmark  ireland  south korea and liechtenstein ',\n",
       "       '15 december 2010  finnishgerman telecoms equipment maker nokia siemens networks said today it won a contract to upgrade the radio network of homebased telecommunications company elisa oyj hel  eli1v ',\n",
       "       'revenue was slightly down  at  x20ac 495 million  634 million  compared to  x20ac 497 million a year earlier ',\n",
       "       ' the rest of this week s tapings of jimmy kimmel live have been canceled until he is back on his feet ',\n",
       "       'the polish business employs about 1000 people  and it had net sales of about eur 70mn in 2007 ',\n",
       "       'nokia is requesting that the companies stop making and selling the mobile phones and pay monetary damages and costs ',\n",
       "       'in 2007  huhtamaki will continue to invest in organic growth ',\n",
       "       'today the orange scissors are the iconic symbol of the excellent ergonomic design and superior quality associated with every product from fiskars ',\n",
       "       'the product range includes marinated olives  cold cuts  and pates  for example ',\n",
       "       'net sales of the lehdentekijat unit was approximately eur 14 million in 2007 and it had 70 employees ',\n",
       "       'music is provided by all major international and regional labels including universal music group  sony music entertainment  warner music  emi music  rotana  mazzika  melody music  platinum records  and leading content aggregator the orchard  as well as thousands of independent labels ',\n",
       "       'the company said that sales in the three months to the end of march slid to eur86 4 m us 1134 m from eur91 2 m last year ',\n",
       "       'the new activity will incur an investment of about 5 meur ',\n",
       "       'kone s factory located at ayanambakkam  a suburb to the west of chennai  is a fully integrated facility which gives it the capability to address costs ',\n",
       "       'also  a sevenyear historic analysis is provided for these markets ',\n",
       "       'net sales of the vegetable oil business rose to eur 106 mn from eur 101 mn ',\n",
       "       'reuse back into pet bottles has also steadily increased and the rate of use in strapping tape has picked up again after a dip in 2005  petcore said previously ',\n",
       "       'lemcon signed an investment cooperation agreement with the kaluga regional administration last november ',\n",
       "       'belarus oao lidskoe pivo brewery  based in the grodno region  reported a 11  decrease in output to 1045 million decaliters in januarymarch 2010  a representative in the administration of the company told ',\n",
       "       'in asia earlier  japan s nikkei index fell 062 percent and hong kong s hang seng index rose 056 percent ',\n",
       "       'previously  grimaldi held a 4643 pct stake in the finnish company following the takeover bid launched in november 2006 ',\n",
       "       'repeats sees 2008 operating profit down yy  reporting by helsinki newsroom  keywords  tecnomenresults',\n",
       "       'finnish developer and manufacturer of mobile phone chargers salcomp plc omx helsinki  sal1v on wednesday 19 november lowered its fullyear net sales estimate ',\n",
       "       ' adp news   feb 4  2009  finnish broadband data communication systems and solutions company teleste oyj  hel  tlt1v  said today its net profit decreased to eur 55 million  usd 72 m  for 2008 from eur 94 million for 200',\n",
       "       'finnish food workers  union sel plans to hasten its collective bargaining with a twoday strike that would begin on 7 april 2010  in finland ',\n",
       "       'it will be operated by nokia  and supported by its nokia netact network and service management system ',\n",
       "       'the profit after taxes was eur 577 111 million ',\n",
       "       'therefore  phase iii of the research will not be conducted by abbott ',\n",
       "       'in januaryseptember 2009  the group s net interest income increased to eur 1124 mn from eur 743 mn in januaryseptember 2008 ',\n",
       "       'under finnish law  parliament grants licences to build nuclear power plants ',\n",
       "       'the duration of the contract is 37 months ',\n",
       "       'operating loss totalled eur 52 mn  compared to a loss of eur 34 mn in the corresponding period in 20082009 ',\n",
       "       'before fki  john jiang has worked in several general manager or senior business consultant positions for international companies in china ',\n",
       "       'the tekla structures 16 installation has been built according to microsoft s requirements for the windows 7 certification  the company added ',\n",
       "       'finnish retail software developer aldata solution oyj reported a net loss of 117 mln euro  172 mln for 2007 versus a net profit of 25 mln euro  37 mln for 2006 ',\n",
       "       'more than 200 volunteers from fiskars  the garden tool company  home depot  nyse  hd   the city of baltimore and the neighborhood are working right now to create a garden sanctuary  in a single day ',\n",
       "       'the new b shares carry the right to dividend and other shareholder rights with effect from today ',\n",
       "       'in 2009  stora enso s net loss was eur 8797 million compared to eur 6734 million in the previous year ',\n",
       "       'however  this increases signaling traffic which wastes network resources and allows fewer smartphones to connect ',\n",
       "       'this new representation extends comptel s global presence to a total of 18 countries  serving over 250 customers in over 80 countries worldwide ',\n",
       "       'our solutions are fully arabized  and our message is that we want to become the it partner of choice for businesses in the neareast region ',\n",
       "       'we went to the market with yield guidance of the 725  area  which gave us the flexibility to go up or down by 18th ',\n",
       "       'elcoteq has a proven track record in electronics manufacturing services  ems  and a global factory network coupled with modern manufacturing equipment and consistent systems and processes ',\n",
       "       'the customer is local company etera mutual pension insurance co and the principal tenant of the unit will be media company alma media corp hel  aln1v ',\n",
       "       'the bank also expects additional costs  related to the dash 8  q400 jets  which the group shelved in october 2007 ',\n",
       "       'upmkymmene has generated seventeen consecutive quarters of positive cash flow from operations ',\n",
       "       'a in august 2007  latvijas finieris ordered all production lines for a new green veneer mill to be built in ukmerge  central lithuania ',\n",
       "       'nordic banks have already had to write off sizable loans in latvia  with swedbank  nordea  dnb nor and seb reporting combined losses in excess of  135 billion in the period 2007 to 2010 against a backdrop of near economic meltdown in latvia ',\n",
       "       'for teleste  the acquisition marks an entry into services business in a market where it has long been an established and significant supplier of products ',\n",
       "       'consolidated operating profit from continuing operations decreased by 623  to eur 512 mn from eur 1357 mn in 2007 ',\n",
       "       'finnish electronics contract manufacturer scanfil reports net sales of eur 589 mn in the second quarter of 2007  down from eur 624 mn a year earlier ',\n",
       "       'the dollar bounced back after hitting another record low against the euro  which reached  141 for the first time ',\n",
       "       'as a result of the transaction  sanoma budapest has acquired a stake in the online store egeszsegbolt ',\n",
       "       'in the baltic countries  atria s target is organic growth ',\n",
       "       ' adp news   feb 6  2009  finnish fishing tackle company rapala vmc corp  hel  rap1v  said today its net profit rose to eur 192 million  usd 246 m  for 2008 from eur 175 million for 2007 ',\n",
       "       'finnish bore that is owned by the rettig family has grown recently through the acquisition of smaller shipping companies ',\n",
       "       'the number of customers is one of the most important parameters in determining the price of electricity networks ',\n",
       "       'the new majority owners of aspocomp thailand co  ltd are certain private persons belonging to immediate circle of aspocomp s present joint venture partner  saha pathana interholding plc ',\n",
       "       'the value of the deal was not disclosed ',\n",
       "       'tikkurila powder coatings has some 50 employees at its four paint plants  which generated revenues of eur2 4 m usd3 3 m in 2010 ',\n",
       "       'simultaneously  alma media has purchased a 35  share of arena interactive  a subsidiary of arena partners with a focus on mobile solutions development ',\n",
       "       'affectogenimap builds highly customised it solutions for its customers in finland and the baltic countries ',\n",
       "       'performance in the second half of 2009 exceeded expectations ',\n",
       "       'the dividend is payable on february 1  2010 to shareholders of record on january 19  2010 ',\n",
       "       'in addition to the tulikivi corporation  he is also currently a member of the board of the following companies  altia corporation  jærvisuomen portti osuuskunta  osuuskunta kpy  profile vehicles oy and voimatel oy ',\n",
       "       'salcomp s charger manufacturing plant in india is located in the nokia telecom park in the state of tamil nadu  in the eastern part of india ',\n",
       "       'the total donation amount is eur 1115000 ',\n",
       "       'at the same time  the market for automated liquid handling devices is already larger than that for pipettes  according to biohit ',\n",
       "       'sales in finland decreased by 20   and international sales decreased by 93  in terms of euros  and by 151  in terms of local currencies ',\n",
       "       'adp news  feb 25  2009  finnish printed circuit board pcb maker aspocomp group oyj hel  acg1v said today it swung to a net profit of eur 300000 usd 385000 for 2008 versus a net loss of eur 653 million',\n",
       "       'the acquisition does not have to be from the frozen foods or fish sector  as long as it has synergies with lænnen tehtaat s other businesses ',\n",
       "       'kone  headquartered in espoo  finland  is one of the world s leading elevator and escalator companies ',\n",
       "       'the product s frontedge folding maximizes weather resilience and enables a seamless roof finish ',\n",
       "       ' directors and shareholders alike should ask why these practices were allowed to continue  ',\n",
       "       'the other seats would go to edgar edmonds  an american with experience of the clothing and retail industry  and christian fischer  an austrian with experience in the winter sports goods business ',\n",
       "       'seppala transferred the sale to a greater extent than last year to february  and this is reflected on the january sales figures ',\n",
       "       'raute said it has won an order worth around 15 mln eur to supply several plywood production lines to mills operated by russian wood products company sveza group ',\n",
       "       'following the transaction  tulikivi restructured its operations into the soapstone fireplaces business  natural stone product business and ceramic products business units ',\n",
       "       'according to finnish scanfil s founder and chairman of the board  jorma j takanen  the company has to look for growth abroad ',\n",
       "       'the scheme for teliasonera and altimo is practically identical  except that it involves the merger of their stakes in vimpelcom and kyivstar ',\n",
       "       'finnish silicon wafers manufacturer okmetic oyj said it swung to a net profit of 49 mln euro  63 mln in the first nine months of 2006 from a net loss of 18 mln euro  23 mln a year earlier ',\n",
       "       'teliasonera has secured deliveries for 4g modems with support for 3g and 2g during the second quarter 2010 ',\n",
       "       'last july  the group said it intended to relocate warehouse and office space in loudeac and saint marcel to morvillars  in the east of france  where it already operates a hook manufacturing and distribution unit ',\n",
       "       'the operating margin of aker yards cruise  ferries division went down from 83  to 64  in the first quarter of 2007 ',\n",
       "       'finnish real estate investor sponda plc said on wednesday 12 march that it has signed agreements with danske bank as  helsinki branch for a 7year eur150m credit facility and with ilmarinen mutual pension insurance company for a 7year eur50m credit facility ',\n",
       "       'however  the orders received during the period under review fell by 17  quarteronquarter from the eur 213 million recorded in the second quarter of 2010 ',\n",
       "       ' our research shows that access to information technology has been one of the limiting factors for most small businesses especially when they work in a heterogenous network based environment ',\n",
       "       'helsinki  thomson financial   kone said it has won four orders in saudi arabia  united arab emirates and qatar worth 40 mln eur ',\n",
       "       'the fourth quarter saw rapala swing back to a pretax profit of 15 mln eur from a year earlier loss of 12 mln on the back of a 30 pct uplift in sales to 448 mln eur  and a stronger performance in north america ',\n",
       "       'the challenge for the company  however  is finding new sources of raw material  said risto rinne  ceo of neste oil ',\n",
       "       'adp news  nov 18  2008  finnish ac drives manufacturer vacon oyj omx  vac1v said today that it had set up new representative offices in romania and ukraine to serve the growing markets in eastern and southeastern europe ',\n",
       "       'recovery has been evident in the liquid handling business  particularly in areas outside europe and primarily in north america and asia ',\n",
       "       'sales in latin america increased by 42  to eur 432mn  and a total of 87 mn mobile devices were sold in the area  representing an increase of 32  from the corresponding period in 2009 ',\n",
       "       'rautaruukki aims to find work from the group s other locations for those who have been made redundant ',\n",
       "       'basware offers full support for all sap versions starting from sap 45 ',\n",
       "       'the shipyard hopes the regional government in andalusia can offer its some form of financial support ',\n",
       "       'metso expects its net sales to increase by about 10  in 2008  at comparable exchange rates ',\n",
       "       'laavainen said benecol was well known in europe and the us  where it had been in the market for 15 years ',\n",
       "       'the parties have therefore agreed to leave avena out of the deal ',\n",
       "       'helsinki afx  outokumpu said its technology unit has won a 28 mln eur contract from bosniaherzegovina s aluminij dd mostar to upgrade an anode plant ',\n",
       "       'in q1 of 2010  bank of land s net interest income increased from eur 91 mn to eur 97 mn ',\n",
       "       'operating loss totaled eur 25mn compared to a profit of eur 63mn in the corresponding period in 2005 ',\n",
       "       ' the issues identified by stonesoft affect a range of content inspection technology ',\n",
       "       'unilever s turun sinappi that is made in sweden holds 40  of the market ',\n",
       "       'theodosopoulos said tellabs could be of value to nokia siemens or nortel given its  leading supply status  with verizon  along with highgrowth products ',\n",
       "       'a total of 165 mn passenger ship journeys took place in the northern baltic sea in 2007  slightly down from 165 mn in 2006 ',\n",
       "       'most of the dividend will go to the grimaldi family ',\n",
       "       'the contract value amounts to eur 24 million ',\n",
       "       'one can even receive on the spot alerts as soon as jobs are posted  putting you at the front of the queue for opportunities ',\n",
       "       'the stonegate product family was designed to provide the full benefits of a unified management system including shared logging  reporting and auditing ',\n",
       "       'the adapter  awarded with the  certified integration for sap \\x8b  netweaver  endorsement  integrates basware s invoice automation and procurement solutions with more than 200 different erp systems ',\n",
       "       'finnish navigation device manufacturer benefon that is changing its name to geosentric reports net sales of about eur 11 mn in the second quarter of 2007 ',\n",
       "       'the new organization consists of two business units  charging  messaging and finance  administration ',\n",
       "       'exports grew 165 percent to 191 million liters ',\n",
       "       'finnish forest industry group stora enso oyj issued on thursday  20 march  a profit warning for the first quarter 2008 ',\n",
       "       'nokia also noted the average selling price of handsets declined during the period  though its mobile phone profit margin rose to more than 22 percent from 13 percent in the yearago quarter ',\n",
       "       'the group intends to relocate warehouse and office space in loudeac and saint marcel to morvillars  in the east of the country  where it already operates a hook manufacturing and distribution unit ',\n",
       "       'the efore plant at saarijarvi in central finland is one of the largest employers in the region ',\n",
       "       'stora enso will record a capital gain of eur 33 million as a nonrecurring financial item in its fourth quarter 2006 results ',\n",
       "       'it delivers a different user experience and enables us to widen the market we can address  ',\n",
       "       'both operating profit and net sales for the sixmonth period increased  respectively from eur7 5 m and eur655 5 m  as compared to the corresponding period in 2005 ',\n",
       "       'ssh communications security corporation is headquartered in helsinki  finland ',\n",
       "       'the total restructuring costs are expected to be about eur 30mn  of which eur 135 mn was booked in december 2008 ',\n",
       "       'solteq plc announcement 16122010 share repurchase 16122010 in the helsinki stock exchange solteq plc now holds a total of 486969 shares including the shares repurchased on 16122010 ',\n",
       "       'teleste bk optiflex amplifier products will be used in ongoing capacity upgrade of kdg s network to bidirectionality ',\n",
       "       'capman said the deal s effect on its cash flow for 2009 totals eur3 4 m  but the transaction would not affect its financial results for 2009 as it was executed at fair value ',\n",
       "       ' patja has worked well for us for more than a decade  and fujitsu s new bid was competitive ',\n",
       "       'barclays plc  lse  barc   nyse  bcs   credit agricole sa  epa  aca   cagr ',\n",
       "       'mreal s sales are expected to have increased by 4  yearonyear to eur609m in the second quarter of 2010 ',\n",
       "       'also  cba is to issue a benchmark  10 year fixed rate deal in euros ',\n",
       "       'finnish metal products company componenta oyj  hel  cth1v  said today its net loss narrowed to eur 500000  usd 680000  in the last quarter of 2010 from eur 53 million for the same period a year earlier ',\n",
       "       'jul 18  police are looking for a man who they say terrorized three males at gunpoint on east maple avenue this afternoon  shooting one of them and kidnapping another ',\n",
       "       'the serial bond is part of the plan to refinance the shortterm credit facility ',\n",
       "       'operating result showed a loss of eur 29 mn  while a year before  it showed a profit of eur 06 mn ',\n",
       "       ' indorussia trade can cross the targeted 10 billion dollars by 2010 and double to 20 billion dollars by 2015  if trade irritants and procedural hassles are resolved   the chamber said in its survey on obstacles to trade with russia ',\n",
       "       '30 november 2009  finnish office furniture maker martela oyj hel  maras said today that it will make redundant three people and other nine will be laid off permanently from the company s office staff and factory workers ',\n",
       "       'dragonfly love is another video shot from start to finish using the nokia n8 ',\n",
       "       'the prosecutor is also demanding outokumpu pay a fine of eur 800000 at most ',\n",
       "       'the first of the two project phases is expected to be completed by the end of 2012 ',\n",
       "       'finnish power supply solutions and systems provider efore oyj said its net loss widened to 32 mln euro  42 mln for the first quarter of fiscal 20062007 ending october 31  2007 from 900000 euro  12 mln for the same period of fiscal 200506 ',\n",
       "       'coffee will be served starting at 1430 eet as well as after the event ',\n",
       "       'and the broker repeated its  buy  rating  based on expectations that current restructuring will lead to a clear improvement in performance in europe in 2007 ',\n",
       "       ' method and system for controlling a hard disk drive using a multimediacard physical interface  was invented by marko ahvenainen ruutana  finland ',\n",
       "       'the financial details of the acquisition were not disclosed ',\n",
       "       'in 2008  it generated net sales of eur 93 million usd 131 m ',\n",
       "       'metsaliitto will sell 11 million b shares of neomarkka  accounting for about 183 pct of neomarkka s equity and about 127 pct of the voting rights ',\n",
       "       'stora enso has also had meetings with the labor authorities  employment and economic development centres and representatives of the government in order to find solutions ',\n",
       "       'cramo  headquartered in vantaa  finland  rents construction machinery and equipment  as well as rents and sells modular space ',\n",
       "       'aug 17  2010  curbed delivered by newstex   and now  the latest from racked  covering shopping and retail from the sidewalks up ',\n",
       "       'tecnomen s solution can be used for prepaid and postpaid billing  for charging and rating of voice and video calls  data traffic and any kind of content services in both mobile and fixed networks ',\n",
       "       '20 october 2010  finnish environmental management company lassila  tikanoja oyj hel  lat1v  or lt  said monday it expects its operating profit  excluding nonrecurring items  for the whole 2010 to be slightly lower than in 2009 ',\n",
       "       'the dividends payable annually shall be deducted from the share subscription price ',\n",
       "       'fullyear operating result for 2008 was 36 million negative ',\n",
       "       'finland s poyry energy has won a contract to advise builders of a new cogeneration power plant in lithuania s secondbiggest city of kaunas and to supervise the construction process ',\n",
       "       'the ea reng group posted sales of approximately 84 million kroons for 2007 ',\n",
       "       'the company s operating profit for 2006 stood at 396 mln euro   579 mln  ',\n",
       "       'the company said it observed a current stabilisation in prices and there is potential for higher prices for deliveries in the first quarter of 2011 ',\n",
       "       'estimations indicate that even up to 170 different tablet computers or reading devices will be available in 2011 ',\n",
       "       'according to sweden s minister for local government and financial markets  mats odell  the decision to sell the state s shares in telecom group teliasonera can only be carried out in cooperation with the state of finland ',\n",
       "       'the representative body of swedish meats approved an improved offer from finnish hk ruokatalo to acquire the company ',\n",
       "       'jan 6  ford is struggling in the face of slowing truck and suv sales and a surfeit of uptodate  gottahave cars ',\n",
       "       'the sales price was not disclosed ',\n",
       "       'subscription sales decreased slightly ',\n",
       "       'the facility will be used to refinance citycon s existing credit facility  the company said ',\n",
       "       'technopolis said before the protocol was signed that the technopark would be built at a site covering more than six hectares in the neudorf special economic zone and that it planned to invest 200 million euros in the project until 2009 inclusive ',\n",
       "       'and that s exactly what happened on a recent weekday when an east haven baker was brought in to remind residents about the easter tradition of making wheat and rice pies ',\n",
       "       'jeder betatester erhælt kostenlos sechs monate lang updates und hat laut eigener aussage die m¦glichkeit  die finale version zu beeinflussen ',\n",
       "       'teliasonera is the leading telecommunications company in the nordic and baltic regions ',\n",
       "       'incap contract manufacturing services pvt ltd  a subsidiary of incap corporation of finland  plans to double its revenues by 20072008 ',\n",
       "       'adp news  nov 13  2008  finnish printed circuit board pcb maker aspocomp group oyj omx  acg1v said today that its net loss narrowed to eur 2 million usd 25 m in the first nine months of 2008 from eur 57',\n",
       "       'ingen is an established medical device manufacturer with an emerging new medical product line for the respiratory market worth an estimated  4 billion in the us and  8 billion globally ',\n",
       "       'depending on the market situation  such projects are sold after 1 to 3 years after completion ',\n",
       "       'tecnomen s system features a new range of valueadded services for prepaid and postpaid billing  charging and rating of voice calls  data traffic  or any kind of content services in both mobile and fixed networks ',\n",
       "       'nevertheless  the development can not be allowed to ruin the print newspaper  which continues to be sanoma news  main medium ',\n",
       "       'incap contract manufacturing services pvt ltd  a subsidiary of incap corporation of finland  is acquiring the manufacturing unit of the tvs electronic ltd at tumkur  near bangalore  for rs40 crore ',\n",
       "       'the antibody  given at repeated doses of up to 8 mgkg  was generally well tolerated  and the pharmacokinetic characteristics of btt1023 in psoriasis patients were consistent with those observed in a previously completed study in rheumatoid arthritis ra patients ',\n",
       "       'this solution is an extension to the existing online mediation solution delivered earlier by comptel and ibm ',\n",
       "       'uponor maintains its fullyear guidance for 2010 ',\n",
       "       'according to pkc  the acquisition would bring a significant addition to pkc s customer base ',\n",
       "       'according to deputy md pekka silvennoinen the aim is double turnover over the next three years ',\n",
       "       'panostaja did not disclose the purchase price ',\n",
       "       'in the method the smelt spouts 2 are separated from the working area 6 by a shielding wall 8  10 arranged movable in relation to the smelt spouts ',\n",
       "       'the value of the confirmed aircraft orders totals eur 2bn ',\n",
       "       'several large stocks tacked lower  however ',\n",
       "       'alma media corporation press release 15 march 2010 tyrvaan sanomat and paikallissanomat being bought by suomen paikallissanomat two local papers  tyrvaan sanomat and paikallissanomat  appearing in sastamala and its neighbouring municipalities  are to be bought by suomen paikallissanomat oy ',\n",
       "       'etteplan targets to employ at least 20 people in borlænge ',\n",
       "       'its 168 asset management experts manage assets worth over eur 35 billion ',\n",
       "       'the relocation of ragot has already started and will be completed in the next few weeks  with the waterqueen and tortue moves planned for mid2008 and vmc europe during the third quarter of 2008 ',\n",
       "       'nokia siemens networks provides mobile and fixed network infrastructure  communications and networks service platforms  as well as professional services  to operators and service providers ',\n",
       "       'global sports equipment maker amer sports corp  whose brands include atomic  salomon and wilson  saw a 64 percent increase in thirdquarter net profit to euro 474 million  65 million on strong sales and cost cuts ',\n",
       "       'the output of the contracts totals 72 mwe ',\n",
       "       'to our members and partners  the use of it will mostly be apparent in the increased efficiency of the results service   observes perttu puro from tradeka ',\n",
       "       'the passenger tunnel is expected to be put into operation in 2009 ',\n",
       "       'the majority of the company s personnel in finland is temporarily laid off from one to six weeks in the period from february to june 2009 period ',\n",
       "       'israeli cable network operator hot telecom has chosen teleste  an international technology group  as its exclusive provider of fttx equipment in israel  according to teleste today ',\n",
       "       'the new office  located in shenzhen  will strengthen vaisala s already 10year old presence in china ',\n",
       "       'it started with software that was capable of retrieving the data typed into the computer keyboard   keyloggers    and then more complex mechanisms arrived on the scene  such as phishing and pharming ',\n",
       "       'weber convinced his friend ray ostrom  who owned a lake street sporting goods store  to sell the lures ',\n",
       "       'delhaize le lion has selected the aldata gold vocal pda solution on the motorola wt4090 pda terminal ',\n",
       "       'as part of the agreement  aspocomp will also give meadville a 10 pct slice of a subsidiary operating in oulu  finland ',\n",
       "       'the devices would be launched in the chinese market in late 2006  the company said ',\n",
       "       'sales climbed 192 pct to 1002 bln eur  surpassing the 953 mln eur consensus figure ',\n",
       "       'quarterly diluted eps on continuing operations came in at 021 eur  compared with last year s 012 eur ',\n",
       "       'the divested stake represented about 27 m shares in okmetic s capital ',\n",
       "       'upmkymmene is working closely with its shipping agents to reduce fuel consumption and greenhouse gas emissions ',\n",
       "       'viking will pay eur 130 million for the new ship  which will be completed in january 2008 ',\n",
       "       'net sales of finnish food industry company lænnen tehtaat s continuing operations increased by 13  in 2008 to eur 3491 mn from eur 3096 mn in 2007 ',\n",
       "       'the company plans to spend the proceeds from the rights offering for strengthening its balance sheet ',\n",
       "       'upm is the biggest producer of magazine paper in europe  with a market share of over 30 pct  and it is likely to say that prices in the segment were at best flat during the quarter  analysts said ',\n",
       "       'the new shares entitle their holders to dividends for fiscal 2006 ',\n",
       "       'cargo volume grew by 7  ',\n",
       "       'after buying eukor car carriers 50 percent stake  grimaldi group is now the sole owner of the swedish rollon  rolloff port of wallhamn ',\n",
       "       'russia s top container shipping group  fesco  and finnish logistics company nurminen logistics have started a pilot project offering clients direct intermodal transportation service from finland to asia pacific countries  fesco said in a statement ',\n",
       "       'helsinki  finland  sept 18  2009  globe newswire   ixonos plc expands the company s smartphone rd services and establishes a new nextgeneration smartphone design unit in connection with ixonos  site in jyvaeskylae ',\n",
       "       'the total investment necessary will be eur40m  the company estimated ',\n",
       "       'the international electronic industry company elcoteq has laid off tens of employees from its tallinn facility  contrary to earlier layoffs the company contracted the ranks of its office workers  the daily postimees reported ',\n",
       "       'net sales totaled eur 936 mn  up from eur 932 mn in the corresponding period in 2005 ',\n",
       "       'raute reported a loss per share of eur0 86 for the first half of 2009  against eps of eur0 74 in the corresponding period of 2008 ',\n",
       "       'the evidentiary hearing in the investigation is scheduled for april 21  may 1  2008 ',\n",
       "       'recently the company decided to build a second identical plant at the same site due to be commissioned toward the end of 2008 ',\n",
       "       'press release 3 september 2009 ruukki continues to be listed in two dow jones sustainability indexes  djsi world and djsi stoxx ',\n",
       "       'the familiar blue  white  and red hk seal has received a more authentic look ',\n",
       "       'kesko food ltd press release 04012006 at 1300 kesko food ltd is launching a major tv campaign to recruit as many as one hundred new kfood retailers ',\n",
       "       'finnish pharmaceuticals company orion reports profit before taxes of eur 700 mn in the third quarter of 2010  up from eur 549 mn in the corresponding period in 2009 ',\n",
       "       '8600 m  and at the time of investment it is fully leased to several tenants ',\n",
       "       'according to arokarhu  some of the purchases that had been scanned into the cash register computer disappeared when the total sum key was pressed ',\n",
       "       'the launch of the plant in june went well  and it has been producing the advanced fuel for a couple of weeks ',\n",
       "       'liquid handling products include electronic and mechanical pipettes  disposable tips as well as pipette maintenance and calibration services for research institutions  healthcare and industrial laboratories ',\n",
       "       'only this time  nokia  india s largest mnc  has sought out a topic that could spark off a million approaches  creativity in emerging markets ',\n",
       "       'for the full 2010 the company expects its net sales and operating result to improve from the previous year  saying that a positive operating result and its amount will depend on the order intake by the end of the summer ',\n",
       "       'it helps our stakeholders get a better understanding of our operations and the challenges in stainless steel business ',\n",
       "       'antniemi refuted a report by the finnish daily turun sanomat as if the company was reorganizing its operations in the baltic countries ',\n",
       "       'member of the hk ruokatalo group in finland  scan  is launching a joint venture slaughterhouse with team ugglarp in skne  southern sweden ',\n",
       "       'the amending of the proposal simplifies the proposed plan and increases the incentive for key employees to stay in the company ',\n",
       "       'boomerang boats had net sales of eur 41 mn and it made an operating profit of eur 04 mn in 2006 ',\n",
       "       'the gross area of eight houses will be 12167 m2 ',\n",
       "       'the court found telecominvest s arguments convincing ',\n",
       "       'the business goals for 2009 will realize with the temporary layoffs carried out in the summer of 2009  and with other savings measures ',\n",
       "       'this is bad news for the barbeque season ',\n",
       "       'finnish metso paper has won an order to supply an uncoated fine paper machine to mcc paper yinhe  in china ',\n",
       "       'an  of the invention  released by the patent office  said   a noncoherent search matrix is formed of said correlation function matrix ',\n",
       "       'chic and cheerful  finnish design house marimekko has been sending its geometric textiles out into the world for the past 60 years ',\n",
       "       'marimekko is considering further measures in the matter ',\n",
       "       'garmin fell 45 percent to  3453 at 133 pm in new york  while google slid 07 percent at  57650 ',\n",
       "       ' russia is ready to participate in an open tender for lattelecom s privatization ',\n",
       "       '4 january 2011  finnish media company alma media corporation hel  aln1v said today its online recruitment service monster oy will partner with local newspaper publisher suomen lehtiyhtyma in listing job advertisements ',\n",
       "       'foodservice and consumer goods markets are served by approximately 13000 people in 54 manufacturing units and several sales offices in 33 countries ',\n",
       "       'gsk announced in november 2008 that it would close its operations in dartford ',\n",
       "       'the company s advantage in pricing can be seen in the significantly lower prices offered by the new unmanned stations ',\n",
       "       'stora enso said delight was suitable for a wide range of applications including food  cosmetics  home decoration and leisure products ',\n",
       "       'after nonrecurring items of eur 177mn  profit amounted to eur 20mn ',\n",
       "       'business boomed after ostrom helped plant a small story about rapala lures in a life magazine issue that featured marilyn monroe on the cover ',\n",
       "       'upmkymmene corp  the world s largest maker of magazine paper  on tuesday reported a 19percent profit drop as lower paper prices  higher costs and a strong euro hurt revenue ',\n",
       "       'finnish oko bank has signed a cooperation agreement with raiffeisen concerning finnish companies  investments in russia ',\n",
       "       'pohjola and cooperative banks have continued to combine their branch office network ',\n",
       "       'export accounts for about one tenth of the company s annual turnover of one billion kroons ',\n",
       "       'we aim to ensure that vacon is in good shape when capital expenditure starts to pick up again   comments vacon plc president and ceo vesa laisi ',\n",
       "       'teliasonera s subsidiary  the mobile operator emt in estonia  has created a world s first mobile identification service which makes it possible to vote via a mobile phone ',\n",
       "       'our indepth expertise extends to the fields of energy  industry  urban  mobility and water  environment ',\n",
       "       'also construction expenses have gone up in russia ',\n",
       "       'finnish office supplies and computer accessories dealer belttongroup plc said its net profit rose to 13 mln euro   17 mln  in 2006 from 113 mln euro   15 mln  in 2005 ',\n",
       "       'merrill lynch analyst campbell morgan upgraded his recommendation on paperlinx from  neutral  to  buy  in may ',\n",
       "       ' the summer collection 2008 will be joyfully fresh like a vitamin injection   said hm s head of design margareta van den bosch ',\n",
       "       'biohit and vwr have been in close cooperation for a number of years in the us  where biohit is one of vwr s focus suppliers ',\n",
       "       'economic development in china is no longer taking place only on the east coast and in the shanghai area  vauramo says ',\n",
       "       'the percentages of shares and voting rights have been calculated in proportion to the total number of shares registered with the trade register and the total number of voting rights related to them ',\n",
       "       'under the plan  which cses worked out together with public policy management institute  ppmi  and other partners  buildings with a total area of 10000 square meters should be built on the territory in the first phase ',\n",
       "       'technopolis has finnish operations in oulu  vantaa  espoo  lappeenranta  jyvaskyla and tampere and is also preparing to expand its operations to russia ',\n",
       "       'the plans will result in the introduction of new and highly specialized manufacturing methods and also entail changes to personnel at the facility ',\n",
       "       'financing of aspocomp s growth aspocomp is aggressively pursuing its growth strategy by increasingly focusing on technologically more demanding hdi printed circuit boards pcbs ',\n",
       "       'latvia s stockmann shopping mall is a subsidiary of finland s stockmann plc ',\n",
       "       'in finland  71  of paper and paperboard is reclaimed ',\n",
       "       'operating profit surged to eur21m from eur106 000 ',\n",
       "       'tracker g400 is a gps collar for hunting dogs allowing to monitor the dog s position and movements with a map application for mobile phones ',\n",
       "       'the proposal of the shareholders to elect mr hannu krogerus to the board is based on his long and unrivalled experience and knowledge of all matters related to elcoteq ',\n",
       "       'operating profit improved by 27  to eur 5798 mn from eur 4572 mn in 2006 ',\n",
       "       'we warmly welcome him to satama   states jussi lansio  chairman of the board ',\n",
       "       'a coker crane will be supplied to tesoro corporation s golden eagle refinery in martinez  california  while a similar crane will be delivered to bp s castell refinery in spain ',\n",
       "       'rapala vmc corporation rapala  a leading fishing tackle and sporting goods manufacturer and distributor  is the main owner of peltonen with its 80  shareholding ',\n",
       "       '28 october 2010  finnish wood products technology supplier raute oyj hel  rutav said today it swung to a net profit of eur3m for the first nine months of 2010 versus a net loss of eur5 2 m for the same period a year earlier ',\n",
       "       'in q1 of 2009  the company s result before taxes from continuing operations  excluding nonrecurring items  totalled eur 04 mn  compared to eur 01 mn in the corresponding period in 2008 ',\n",
       "       'according to honka japan s managing director marko saarelainen  honkarakenne exports about 200 ready made log houses to japan a year ',\n",
       "       'the contracts awarded to date  in connection with the system  amount to a total eur 36 million ',\n",
       "       'finnish component supplier componenta corporation  omx helsinki  cth1v  reported on tuesday  15 july  an operating profit of eur46 2 m on net sales of eur386 0 m for the financial period januaryjune 2008 ',\n",
       "       'financialwire tm is a fully independent  proprietary news wire service ',\n",
       "       ' this order is included in wartsila s order book in the second quarter   the company added ',\n",
       "       'nokia  the world s largest mobile phone manufacturer  and china postel  china s largest mobile phone distributor  have a longstanding partnership that continues to grow stronger over time ',\n",
       "       'stuk today is a full service house expert in radiation and nuclear safety issues ',\n",
       "       'this bold spinning 360 red fabric design is set beautifully on ercols napoli sofa ',\n",
       "       'cargo volume increased by approximately 5  ',\n",
       "       'according to gallup food and farm facts  beef consumption totaled 99mn kilos in finland in 2007 ',\n",
       "       ' after a long  unprofitable period the food division posted a profitable result  which speaks of a healthier cost structure and a new approach in business operations   rihko said ',\n",
       "       'upgrades include a five megapixel camera  voice control  and what looks to be an optical mouse instead a dpad  an upgrade clickhappy s60 has needed forever ',\n",
       "       'finlandbased companies  lænnen tehtaat and raisio  have decided to dissolve the joint venture company zao scandic feed  which was established to start local animal feed business and feed production in northwest russia ',\n",
       "       'finnish lt recoil  a company specialising in used oil regeneration  is building a facility in hamina in finland in 2008 ',\n",
       "       'no planned closing date was provided ',\n",
       "       'marimekko group s fullyear net sales are estimated to increase by about 10  ',\n",
       "       'the service developed by digia facilitates the work and resourcing of health care personnel during vaccination campaigns while providing them with monitoring and management tools ',\n",
       "       'the retail chain launched in 2007 does not correspond to profit and sales forecasts of the company ',\n",
       "       'about nokia nokia is a pioneer in mobile telecommunications and the world s leading maker of mobile devices ',\n",
       "       'the offer  deemed too low by finnlines  board  stands until 4 pm tomorrow ',\n",
       "       'the total value of the contract is some eur 8 million ',\n",
       "       ' over the years  the color orange has become synonymous with quality ',\n",
       "       'the decision of the french court relates to the claims raised by twentyone former aspocomp sas employees  the company said ',\n",
       "       'efficiency programs totalling 100 million euros are under way in finnair ',\n",
       "       'with this subscription  fortum s ownership in tgk10 has increased to slightly over 76  of shares and voting rights ',\n",
       "       'market data and analytics are derived from primary and secondary research ',\n",
       "       'nokia said that its next generation mobile gaming platform makes it easy for people to find  buy  play and share rich and immersive games on a range of nokia devices ',\n",
       "       'stores 16 march 2010  finnish stationery and gift retailer tiimari hel  tii1v said yesterday that it will cut a total of 28 jobs in its units tiimari retail ltd and gallerix finland ltd as a result of the closure of shops ',\n",
       "       'scanfil issued a profit warning on 10 april 2006 ',\n",
       "       'the nokian tyre proves its high safety excellently in the important driving qualities stability with mark 14  handling 15 and braking on wet road with 19 ',\n",
       "       ' net sales for the period are expected to fall well below that of last year and the result after nonrecurring items is expected to be in the red ',\n",
       "       'the insolvency act regulates the amount of debt that borrowers are permitted to write off ',\n",
       "       'the group s business sectors are building construction  infrastructure construction  technical building services  and building products ',\n",
       "       'upm said the move will lower net profit by  x20ac 385 million us 520 million in the second quarter  mainly due to impairment charges ',\n",
       "       ' the flex is a small price to pay for happy lenders  ',\n",
       "       'rapala vmc corporation  rapala  is a finlandbased company engaged in the manufacture and distribution of fishing equipment and accessories ',\n",
       "       'jussi pesonen  member of the sampo board since 2006  will renounce his seat in sampo board ',\n",
       "       'the group s consolidated net sales for 2009 totaled 15 billion euros and it employs approximately 10000 persons ',\n",
       "       'finnish cargotec s kalmar  the business area providing container handling solutions  has been awarded an order for a further ten eone rubbertyred gantry rtg cranes from saigon newport company snp  in vietnam ',\n",
       "       ' capital expenditure on energy efficiency has unfortunately fallen along with the decline in the economy ',\n",
       "       'after the renovation the biggest moulding line in the orhangazi foundry is the most modern line in europe ',\n",
       "       ' the group \\x93 s result before taxes was eur 19  30  million ',\n",
       "       'in januaryseptember 2010  fiskars  net profit went up by 14  yearonyear to eur 654 million and net sales to eur 5253 million from eur 4877 million ',\n",
       "       'the new plant is planned to have an electricity generation capacity of up to 350 megawatts  mw  and the same heat generation capacity ',\n",
       "       'the company also said on november 16  2006 its real estate fund i ky signed an agreement with finnish window maker fenestra oy to build a window plant in forssa  southern finland ',\n",
       "       'sponda plc s annual general meeting decided on 23 march 2005 to establish a shareholders  nomination committee to prepare proposals for the annual general meeting in 2006 on the composition of the board of directors and their remuneration ',\n",
       "       'profit for the period was eur 156 mn compared to eur 141 mn in 2007 ',\n",
       "       'in the asiapacific region  visa wave is available in malaysia  taiwan and south korea and will be expanded to japan and southeast asia this year  jung added ',\n",
       "       'according to the latvian business register  uponor latvia closed in red with lvl 99000 eur 13953817 usd 19455648 on turnover of lvl 2346 mn for 2009 ',\n",
       "       'upon completion of these transactions  metso s stake will amount to more than 60  ',\n",
       "       'the price will be specified at the completion date ',\n",
       "       'pentikæinen emphasises that the most of the internet contents media houses provide can not be free forever ',\n",
       "       'the manufacture of cpps will be undertaken at the existing export oriented unit eou at wartsila s factory at khopoli  near mumbai ',\n",
       "       'panostaja owns a 6877 pct of share capital and the voting rights of suomen helasto shares following an exchange of shares which was carried out on may 30  2007 ',\n",
       "       'equity ratio was 609  compared to 542  in the third quarter of 2007  net sales of the frozen foods business totaled eur 110  up by about 5  from the third quarter of 2006 ',\n",
       "       'pharmaceuticals  italy this brandnew market analysis gives a clear overview of the actual situation and future outlook of the pharmaceutical market in italy ',\n",
       "       'the port facilities  throughput is 250000 teus and 75 mln tons of general cargo ',\n",
       "       'the first charging stations will be made available already in 2008 and a whole network is to be ready in 2010 ',\n",
       "       ' among other finnish shares traded in the us  stora enso closed 033 pct lower at 1211 eur  upmkymmene was up 028 pct at 1810 eur  and metso was down 013 pct at 3106 eur ',\n",
       "       ' every partner will be allowed to buy a quantity of electricity corresponding to their share in the consortium  at production cost   a letter of intent said ',\n",
       "       'aspocomp has repaid its interest bearing liability to standard chartered bank and will use the rest of the consideration to partially repay its interest bearing liabilities in finland and to improve its liquidity ',\n",
       "       'nordic business report17 january 2006efore plc inaugurates new plant in estonia  19982006 m2 communications ltd finnish power electronics manufacturer efore plc said on tuesday  17 january  that it was inaugurating its new plant in parnu  estonia ',\n",
       "       'the biggest sellers in the chain s supermarkets in finland are organic pirkka tomatoes  carrots  eggs  and meat products ',\n",
       "       'the actions are expected to deliver annual cost savings of some eur1520m ',\n",
       "       '1 block lamp harri koskinen s light was introduced in 1996 and has been a bestseller ever since ',\n",
       "       'comptel  a vendor of dynamic operations support system  oss  software  has been selected by orascom telecom  oth  as partner for provisioning and activation solutions for mobile services ',\n",
       "       'the bank forecasts finland s gdp will grow by 2  in 2010 and in 2011 ',\n",
       "       'the group had an order book of eur 774 mn at the end of 2007 ',\n",
       "       'sales for the department store division increased by 15  and sales for the clothing store subsidiary seppala increased by 8  meanwhile sales for hobby hall decreased by 12  ',\n",
       "       'with this appointment kaupthing bank aims to further coordinate capital markets activities within the group and to improve the overall service to clients ',\n",
       "       'the price for logs has clearly improved from 2009 and also the price of pulpwood has gone up ',\n",
       "       'net sales decreased to eur 916 mn from eur 109mn in the corresponding period in 2005 ',\n",
       "       'according to preliminary information by the finnish forest industries federation  imports of roundwood to finland increased to about 20 million m3 in 2005  representing an increase of 15  from 2004 ',\n",
       "       'sales came in at 241 mln eur  compared with 2114 mln  and also beating consensus forecasts of 235 mln eur ',\n",
       "       'the goal is to secure the company s profitability and competitiveness ',\n",
       "       'public services will also be available ',\n",
       "       'tekla structures 16 is  all about you and your team  and compatible with the windows 7 operating system ',\n",
       "       'the deal means that ten persons in three countries will transfer to tieto ',\n",
       "       'following the impact  the altima hit a utility pole  causing a live electric line to fall onto the roadway ',\n",
       "       'sales of clothing developed best ',\n",
       "       'diluted earnings per share  eps  declined to eur 078 from eur 176 ',\n",
       "       'construction is scheduled to start in apriljune 2007 and to be completed in early 2008 ',\n",
       "       'the total capital of funds managed by the bank decreased by 28  to eur 284mn by the end of september 2008 ',\n",
       "       'finnish construction company yit is reducing the number of startups of marketfinanced residential units in 2007 to about 2300 from the previously announced 2700 ',\n",
       "       'the company s order book stood at 15 bln euro  22 bln on september 30  2007  up by 242 pct on the year  with international orders amounting to 365 mln euro  5343 mln ',\n",
       "       'operating profit for the 12month period decreased from eur2 9 m while turnover increased from eur24 5 m  as compared to the financial year 2004 ',\n",
       "       'talvivaara mining company plc  talvivaara mining   lse  talv   a finlandbased nickel mining business  has installed its second production line at its metals recovery plant on june 9  2010 ',\n",
       "       'helsinki afx  cramo said it has agreed to sell cramo nederland bv cnl  its dutch machinery and equipment rental unit  to jaston groep for an undisclosed sum ',\n",
       "       'finnish airline finnair has won a deal with the uk public sector to be the official airline for flights from london heathrow to osaka in japan  as well as flights between manchester in the uk and helsinki in finland ',\n",
       "       'combined with the basware enterprise purchase to pay portfolio  it provides a high level of automation for procurement and invoice workflows ',\n",
       "       'after the acquisition  basware s preliminary pro forma net sales for 2005 amount to eur 526 mn  and preliminary pro forma operating profit amounts to eur 71 mn ',\n",
       "       'the internal revenue service sees about 20 percent of all taxpayers wait until the last two weeks to file  with about 40 million returns filed in april ',\n",
       "       'the notice in its entirety with other proposals from the nomination committee and the board will be published at least four weeks before 28 april on the company s website and in post  och inrikes tidningar and dagens industri ',\n",
       "       ' the implementation of these programs has had  and will have  negative impacts on 2006 and 2007 earnings   mr meiklejohn said ',\n",
       "       'the e7 smartphone will be available for rs35 000 per handset across india   nokia india vicepresident  managing director d shivakumar told reporters ',\n",
       "       'also the city s insurance company  if p  c insurance  has said it will not pay compensation ',\n",
       "       'the mill s raw material need will increase by 100000 m3 of wood ',\n",
       "       'poyry is a global consulting and engineering firm focusing on the energy  forest industry and infrastructure  environment sectors ',\n",
       "       'fortum is looking to invest in several new production units  including a new wastefired unit at its brista combined heat and power  chp  plant and a biofuelsbased production unit at vartan chp plant ',\n",
       "       'the highest growth would be in china  while weakening demand would continue in north america  upm said ',\n",
       "       'the estimated synergy benefits are at least eur7m annually ',\n",
       "       'one can also apply for jobs directly from the ipad  select which cv to attach and which covering letter is most appropriate for each position ',\n",
       "       'all are welcome ',\n",
       "       'tieto s service is also used to send  process and receive materials related to absentee voting ',\n",
       "       'publishing sweden s operating loss was eur 11 mn in q1 of 2009  compared to a profit of eur 06 mn a year ago ',\n",
       "       'the effect of the savings will be noticeable as of the beginning of 2010 ',\n",
       "       'metso will provide a recovery boiler with a capacity of 6800 tonnes of dry solids per day and an evaporation plant with six thermal stages and a capacity of 1600 tonnes per hour ',\n",
       "       'cencorp estimates that its net sales in the last quarter will be as earlier stated  eur4 3 m to eur5 0 m  and operating profit ebitis estimated to be positive ',\n",
       "       'in a media advisory  the ntsb said that after subsequent testing   the train detection system intermittently failed  ',\n",
       "       'they re in a race with google to get lots of users onto their service as social networking creates new business models  said martin garner  a londonbased analyst with ccs insight ',\n",
       "       'total value of the contract is about eur 10mn ',\n",
       "       'the value of the deal has not been disclosed ',\n",
       "       'dubai nokia has announced the launch of  comes with music   its groundbreaking service which introduces a new way for people to enjoy music ',\n",
       "       'nordic walking was first used as a summer training method by crosscountry skiers ',\n",
       "       'it generated an operating loss of eur 963 mn  down from a profit of eur 439 mn ',\n",
       "       'consolidated pretax profit decreased by 692  to eur 410 mn from eur 1331 mn in 2007 ',\n",
       "       'the total value of the project is valued at sek 30bn  eur 283 bn usd 381 bn  ',\n",
       "       'us district judge douglas p woodlock yesterday extended a jan 17 temporary restraining order until march 7 ',\n",
       "       'operating loss of the pulp  paper machinery unit was over eur 3mn in september 2007  august 2008  compared to a profit of eur 37 mn a year earlier ',\n",
       "       'finnish outotec has been awarded a contract to supply a new zinc roaster with gas cleaning and sulphuric acid plant for the ozk kardzhali zinc smelter in bulgaria ',\n",
       "       'lieksaare oy has earlier been regarded under the control of saarelainen oy and the individual shareholders under the shareholder agreement ',\n",
       "       'the first ship has been delayed and is estimated to be completed in spring 2010 ',\n",
       "       'the oulu plant employs approximately 120 people ',\n",
       "       'image data produced by the browser at the phone server is converted into a bitmapped image that is sent to the handset for display  ',\n",
       "       'however  its market share shrank to 4759 per cent from 48 per cent a year earlier ',\n",
       "       'shareholders of rakvere lihakombinaat decided in favor of the buyout of minority shares in midjuly ',\n",
       "       ' bg crane has been a strong partner for hiab in australia for many years ',\n",
       "       'it offers advanced machinery maintenance and process development services to the pulp and paper industry in northern china ',\n",
       "       'according to its notice  skandinaviska enskilda banken ab publ helsinki branch has on 10 august 2009 divested in total 11958000 alma media shares to ilkkayhtyma oyj and kaleva kustannus oy  as the conditions of the agreement made by the companies on 1 july 2009 fulfilled ',\n",
       "       'the company serves approximately 3000 customers in over 100 countries ',\n",
       "       'sponda plans to renovate old real estate and develop new property ',\n",
       "       'kai tulonen  chief technology officer  sysopen digia says   we have been using corporate phonebook inside sysopen digia extensively since last fall  and we have been very satisfied with the results ',\n",
       "       'swedish telco teliasonera is teaming up with friends  a swedish organization against bullying  to fight bullying of children and teenagers via electronic channels ',\n",
       "       'these include software development for internet and mobile telephone content  communications  valueadded software  financial services  security applications  systems integration and electronics   ebrd informed ',\n",
       "       'the compnay also said that it would lower the price of development projects by about one third compared with last november ',\n",
       "       'reporting in accordance with the merged business operations will start as of january 1  2011 ',\n",
       "       'the company is now withdrawing the second part  eur 72 mn  of the investment commitment ',\n",
       "       'nordic business report26 june 2006metso corporation wins eur50m equipment order in australia  19982006 m2 communications ltd the finnish engineering and technology group metso corporation said on monday  26 june  that it has received a eur50m equipment order in australia ',\n",
       "       'other carriers and handset makers spin it as a positive event that will raise interest for higherend phones and pricier data plans ',\n",
       "       'the deliveries started in april 2006 and will be completed in 2007 ',\n",
       "       'helsingin uutiset  vantaan sanomat and lansivayla reach some 385000 readers  or more than 40  of the consumers in the greater helsinki region ',\n",
       "       'biotie northamerican licensing partner somaxon pharmaceuticals started a phase iiiii clinical study in patients suffering from pathological gambling and a pilot phase ii study in nicotine addiction smoking cessation ',\n",
       "       'pretax profit decreased by 37  to eur 1931 mn from eur 3056 mn ',\n",
       "       'telecomworldwire7 april 2006tj group plc sells stake in morning digital design oy finnish it company tj group plc said on friday 7 april that it had signed an agreement on selling its shares of morning digital design oy to edita oyj ',\n",
       "       'according to saarioinen s managing director ilkka mækelæ  the food industry sector has a significant excess of production machinery ',\n",
       "       'mreal plans to discontinue production of standard coated fine paper in the hallein and gohrsmhle mills ',\n",
       "       'fiskars r  founded in 1649  is one of the oldest companies in the world and is the largest manufacturer of lightweight stainless steel scissors in the us ',\n",
       "       'the finnish business delegation includes representatives from over 20 companies that include nokia corp  finnfund  outokumpu oyj  oko bank  alteams oy and cargotec corp ',\n",
       "       'the plant is expected to enter commercial operation by mid2009 ',\n",
       "       'in addition the deal includes a call option which will enable maritim food as to increase its holding in sandanger as to 51  in the future ',\n",
       "       'headline of release dated march 26  2008 should read  acacia subsidiary enters into settlement agreement for rule based monitoring technology with fsecure  sted acacia technologies licenses rule based monitoring technology to fsecure  ',\n",
       "       'net interest income totaled eur 159 mn  compared to eur 156 mn a year earlier ',\n",
       "       'small investors have voiced fears that the shares will end up with risk investors ',\n",
       "       'in the reporting period  the company s operating profit grew by 432  to eur 6 million ',\n",
       "       'ruukki signed the contract with norwegian company veidekke entreprenor as ',\n",
       "       'the companies  aim is to finalize the negotiations and sign the contracts at the start of october 2008 ',\n",
       "       'it currently employs about 750 people and expects headcount to reach 1000 by end of 2007 ',\n",
       "       'the company will use the assets for strengthening its balance sheet and financial position ',\n",
       "       'the segu companies and pkc s polish unit will form a business servicing the western european markets with  annual sales of about hundred million  and about 2500 employees  the finnish company s ceo  harri suutari  said ',\n",
       "       'around 50 percent of the world s roro fleet is over 25 years old and needs to be scrapped for environmental reasons ',\n",
       "       'the upgraded factory is scheduled to come on stream in the summer of 2008 ',\n",
       "       ' tweeple should check who s following them  and be cautious when clicking on urls and tinyurls  ',\n",
       "       'rsa s shares closed at 1569 p at the time of going to press ',\n",
       "       'in addition  a further 29 employees can be laid off until further notice and the whole workforce can be laid off for short periods if needed ',\n",
       "       'the finnish daily kauppalehti surmises that finnish supplier rautaruukki has raised its prices above aker s comfort zone ',\n",
       "       ' this is a win for all oems targeting to develop wimax products ',\n",
       "       'the money will be spread mainly over 2011 and 2012  the company said ',\n",
       "       'the airline s share price closed down slightly at   x20ac  1251   15us 74  in helsinki ',\n",
       "       'key shareholders of finnish it services provider tietoenator oyj on friday rejected a hostile eur1 08 billion  167 billion offer from buyout shop nordic capital  giving new life to a possible counter offer from blackstone group lp and norwegian telecom telenor asa ',\n",
       "       'bertrand sciard has been the vice chairman of the board of directors of aldata solution since april 2007 ',\n",
       "       ' serving customers locally is one of the cornerstones of customer focus for us ',\n",
       "       'radiation and today is a full service house expert in radiation and nuclear safety issues ',\n",
       "       'pretax loss totaled eur 12 mn  down from a profit of eur 21 mn in 2004 ',\n",
       "       'copper  lead and nickel also dropped  hbos  hbos  plummeted 20  to 703 pence after saying this year\\x88 ',\n",
       "       'pa   jpmorgan chase and co  nyse  jpm  and pohjoa bank are joint leadmanagers on the senior  unsecured deal ',\n",
       "       'any investment or investment activity to which this communication relates is only available to relevant persons and will be engaged in only with relevant persons ',\n",
       "       'the contract is worth some eur 1 million ',\n",
       "       'the buildings  with about 40 condominiums each  will be built in 4 or 5 stages ',\n",
       "       'alexandria  va  nov 19  erkki aho  elimaki  finland  has developed a method and apparatus in conjunction with a shoe press ',\n",
       "       '3 february 2011  finnish broadband data communication systems provider teleste oyj hel  tlt1v said yesterday its net profit rocketed to eur4 8 m in 2010 from eur416 000 in 2009 and it lifted its dividend proposal ',\n",
       "       'finnish fibrebased materials maker ahlstrom corp  hel  ahl1v  said today it decided to close down its spunlace composite production line number 23 at chirnside plant in the uk by the end of march 2011 ',\n",
       "       ' moody s said it gave p a1 longterm senior unsecured and p p1 shortterm debt ratings to finnish lender aktia bank s eur1bn usd1 4 bn euro mediumterm note emtn program of 25 march 2011 ',\n",
       "       'following the acquisition  relacom will strengthen its presence in finland  serving operators and office market with mobile and fixed networks construction  installation and maintenance services ',\n",
       "       'in china  finnish kone that provides elevators  escalators  and solutions for modernisation and maintenance will build 342 escalators that will be installed in a highspeed railway section between beijing and shanghai in a 15 years  time ',\n",
       "       'while the company did not indicate the level of investment in the unit  it said that has purchased the equipment of nokia corporation s mobile phone rd laboratory in jyvaeskylae ',\n",
       "       'the share issue  derogating from the preemptive right of the shareholders and comprising some six million new shares at market price  will be offered for subscription by shareholders  holders of capital notes and by professional clients ',\n",
       "       'the company operates worldwide and employs in total approximately 47000 persons ',\n",
       "       'finnish mreal s kyro mill is starting negotiations to cut staff ',\n",
       "       'according to olvi s managing director lasse aho  the company has an ongoing mmx plus project that aims to find growth outside finland ',\n",
       "       'the combination of all services enabling us to offer a complex and strengthened service chain not only limited to the baltic port connections but also for getting access to the world wide grimaldi network into the mediterranean  africa and north america  says uwe bakosch ',\n",
       "       'sysopen digia plc  press release  7 february 2006 ibm finland has rewarded its most distinguished partner companies for 2005 ',\n",
       "       'subjectmatter of the invention furthermore is the use of the cyclone for separating partly molten particles  ',\n",
       "       'the finlandbased company says it will move into an existing 260000squarefoot facility in september ',\n",
       "       'however shortterm rentals are becoming more popular ',\n",
       "       'guangdong  october 26  sinocast  nokia telecommunications dongguan branch entered into a letter of intent to open a nokia class in qingyuan polytechnic  qingyuan city of guangdong province ',\n",
       "       'as a result of these transactions  the aggregate holdings of burrill life sciences capital fund  lp has decreased below 5 per cent of the total number of shares and votes of the company ',\n",
       "       'he said he has been losing five families a month to the economy as many make alternative arrangements to save money ',\n",
       "       'the group s 12month operating profit grew 31 percent to 3378 million euros ',\n",
       "       'after piloting  the instrument will be further developed according to the experiences gained ',\n",
       "       'niklas skogster has been employed by the abb group in various positions concerning the development of operations ',\n",
       "       'juha jordan  chief engineer at glaston  said one of the reasons for choosing vacon as a global ac drives supplier is that it has service and support centres in the same countries where glaston operates ',\n",
       "       'the price of raw material aluminium went up at the end of 2005  but the company considers its outlook for 2006 favourable ',\n",
       "       'mursula said they tried to gather macroeconomic perspective to see how malaysia was doing ',\n",
       "       'kesko corporation stock exchange release 28022008 at 0930 1  1  kesko corporation and aspo plc today signed an agreement by which aspo acquires the share capital of kaukotelko ltd  a subsidiary wholly owned by kesko ',\n",
       "       'delivery is due in the second half of 2011 ',\n",
       "       'ramirent is the leading construction machinery rental company in finland with annual sales of eur 134 million in 2009 and operating nationwide through 83 outlets and 612 employees ',\n",
       "       'vaisala s board of directors will propose a dividend of 085 euro  124 per share at the company s annual general meeting ',\n",
       "       'the nokia music store begins trading on tuesday  selling singles and albums as well as live music streaming ',\n",
       "       'under the transaction agreement  metsaliitto will purchase 247  of metsabotnia s shares from upm and 3  from mreal ',\n",
       "       'finnair said that the cancellation of flights would cause daily losses of  x20ac 25 million us 3 million ',\n",
       "       'apart from nordea  also ergo is competing for the position among the top three pension funds providers in estonia ',\n",
       "       'the event can also be viewed as a live webcast at wwwcargoteccom ',\n",
       "       'ollipekka laine has been appointed as the chairman and erkki pehulehtonen as the vice chairman of the board ',\n",
       "       'ebit totalled eur 144 mn  compared to a loss of eur 03 mn in the corresponding period in 2009 ',\n",
       "       ' we can say that the number of deals has become normalized by the moment  and therefore we have decided to devalue our apartments now on sale   he added ',\n",
       "       'last year the company raised its turnover to approximately 7 million litas eur 2 mln  from 61 million litas in 2004 ',\n",
       "       'the joint venture will invest about eur 500000 in production technology straight away ',\n",
       "       'exports accounted for 654  of net sales  representing an all time record for the company ',\n",
       "       'the negotiations concern 246 salaried and senior salaried employees and are scheduled to be completed in six weeks ',\n",
       "       'finnish home decoration and arts and crafts retailer tiimari plc  omx helsinki  tii1v  reported on monday  18 august  an operating loss of eur3 3 m on net sales of eur33 9 m for the period januaryjune 2008 ',\n",
       "       ' last year  finnair recorded a 326percent growth on the asian sector  carrying more than 110 million passengers between the two continents  ',\n",
       "       'outotec said it won new orders worth 4929 mln eur during the quarter  compared with 2404 mln eur a year earlier ',\n",
       "       'the payment date is march 25  2010 ',\n",
       "       'net interest income was eur 393 mn  up from eur 327 mn ',\n",
       "       'the group owns and operates a fleet of more than 800dwt  while container capacity is 17000 teus  and manages a diversified fleet of its own railway rolling stock of over 17000 units ',\n",
       "       '3 january 2011  finnish flag carrier finnair oyj  hel  fia1s  said today it sealed a nineyear sale and leaseback agreement for its newest airbus a330 aircraft for syndication into the japanese operating lease market ',\n",
       "       'capman  the finnish alternative asset manager  has made an acquisition for its helsinkifocused vehicle  real estate fund i the fund has bought a sevenstory office built in 1973 that underwent refurbishment at the end of the 1990s ',\n",
       "       'last week  the finnish metals and technology group announced plans to sell more than 80 percent of its technology unit to further the company s strategic goal of becoming the world s largest stainless steel maker ',\n",
       "       'in addition  cramo and peab have signed exclusive fiveyear rental agreements in finland and have extended their existing rental agreements in the swedish market for another five years ',\n",
       "       'the annual thesis contest is aimed to enhance the thesis quality and to strengthen the thesis culture in polytechnics ',\n",
       "       'finnishowned contract manufacturer of electronics elcoteq hungary kft has announced plans to recruit more than 650 new staffers to fulfill new orders in pcs  where the company has two plants ',\n",
       "       'headquartered in this city  the company is nearly 75 years old and focuses on sciencebased innovation and technology for environmental measurement ',\n",
       "       'the deal is in line with etteplan s strategy to operate as a partner of global customers and provide industrial technology design services ',\n",
       "       'furthermore  bunge will also sign a licensing agreement for the sunnuntai and carlshamn mejeri brands ',\n",
       "       'anttila s online department store  netanttila  has an established position as the bestknown  most visited and most shopped online store in finland  ',\n",
       "       'a corresponding increase of 8543250 euros in ahlstrom s share capital has been entered in the trade register today ',\n",
       "       ' nokia s calling all innovators africa competition has been specifically launched to enable developers to create locally relevant  bestofbreed mobile applications  ',\n",
       "       'the statutory negotiations at headquarters are part of this decrease ',\n",
       "       'this could be any of us at any time   she said ',\n",
       "       'as previously announced  geosentric oyj entered into financing agreements with its lead investor on june 30  2010 enabling the company to receive financing up to the aggregate amount of 6m ',\n",
       "       'operating profit for the ninemonth period decreased from eur19 9 m while net sales increased from eur155 7 m  as compared to the corresponding period in 2007 ',\n",
       "       'it will focus on improving its profitability next year by streamlining operations ',\n",
       "       'in addition to fireplace exports  demand for lining stone has exceeded the level of the earlier part of the year and will continue to be clearly brisker for the remainder of the year ',\n",
       "       ' adp news   feb 12  2009  finnish construction company lemminkainen oyj  hel  lem1s  said today its net profit decreased to eur 635 million  usd 811 m  for 2008 from eur 806 million for 2007 ',\n",
       "       'our cannedpreserved food in finland report offers a comprehensive guide to the size and shape of the market at a national level ',\n",
       "       'information system supplier sentera  up 2451 pct  was the next most heavily traded share after sysopen digia  a software house  acquired 774 pct of the company this morning for just under 33 mln eur ',\n",
       "       'previously  the plant was expected to be completed by the end of 2008 ',\n",
       "       'rimi supermarket is the key customer in magistral center ',\n",
       "       ' the group \\x93 s profit before taxes was eur 02 78 million ',\n",
       "       'finnish electronics contract manufacturer scanfil reports net sales of eur 2412 mn in 2006  down from eur 3216 mn in 2005 ',\n",
       "       'comptel corporation sami ervio president and ceo  distribution  nasdaq omx helsinki major media comptel dynamic oss solutions enable telecom service providers to deliver services flexibly and charge them effectively ',\n",
       "       'suominen corporation estimates that the costcutting program that started in autumn 2005  higher sales prices  and expected growth in volume of wet wipes  will make the company s operations more profitable ',\n",
       "       'the growth of net sales has continued favourably in the middle east and africaand in asia pacific ',\n",
       "       '11 august 2010  finnish measuring equipment maker vaisala oyj hel  vaias said today that its net loss widened to eur4 8 m in the first half of 2010 from eur2 3 m in the corresponding period a year earlier ',\n",
       "       'wærtsilæ s aim is to serve the rapidly growing number of vessels and increasing marine activity in the barents sea region ',\n",
       "       ' adpnews   feb 3  2010  finlandbased steel maker rautaruukki oyj  hel  rtrks   or ruukki  said today it slipped to a largerthanexpected pretax loss of eur 46 million  usd 645 m  in the fourth quarter of 2009 from a',\n",
       "       'in addition the production personnel of the sport division have been given a temporary layoff warning ',\n",
       "       'rautakesko s business operations in norway and russia  acquired in july 2005  are included in the figures of the comparable period  impacting sales growth starting from august ',\n",
       "       'the marubeni group focuses on creating  value chain  from upstream to downstream  encompassing a wide variety of business fields  including oil  gas  metals  mineral resources  foods  pulp  paper and chemicals  among others ',\n",
       "       'based in helsinki  finland  ramirent has branches in 13 nordic  central and eastern european countries ',\n",
       "       'however  the brokers  ratings on the stock differ ',\n",
       "       'facades in riga 8 march 2010  finnish construction company yit oyj hel  yty1v said today that it will build the frame and the facades in a tower construction project in riga ',\n",
       "       'okmetic board of directors has also decided on a new share ownership program directed to the company s top management ',\n",
       "       'it was decided that the auditors are reimbursed according to invoice ',\n",
       "       'profit before taxes decreased by 9  to eur 1878 mn in the first nine months of 2008  compared to eur 2071 mn a year earlier ',\n",
       "       ' eb tough voip was designed to fulfill the communications needs of military units  and we continue to strive towards achieving that goal   mikko viitaniemi  eb elektrobit defense products  wireless solutions senior manager  said in a statement ',\n",
       "       'prices and delivery volumes of broadband products decreased significantly in 2005 ',\n",
       "       'about marubeni marubeni corporation tse  8002  adr  maruy was established in 1858  and is a core company of marubeni group  one of japan s leading general trading houses ',\n",
       "       'basware s ceo ilkka sihvo comments in conjunction with the interim report   as a whole  basware succeeded well in the second quarter of 2007 ',\n",
       "       'the sale  which will result in a gain of some eur 60 million in the second quarter of 2010 for oriolakd  supports the finnish company s strategy to focus on pharmaceutical wholesale and retail operations ',\n",
       "       ' nokia is just interested in bring nokia to the market  ',\n",
       "       'investments in product development stood at 60 mln euro   88 mln  ',\n",
       "       'we are now in a position to pursue novel clinical candidates going forward  ',\n",
       "       'investments span across various product and investment types  including retail  hospitality  office  and residential  with interests in realestate portfolios  nonperforming loans and corporate restructurings ',\n",
       "       'since inception in 1999  access  stable management team has remained disciplined and focused on the proactive screening  selection and management of european small to midmarket buyout funds of funds and mandates ',\n",
       "       'airbus will attempt to evacuate up to 873 people within 90 seconds ',\n",
       "       'boomeranger boats oy specialises in boat building and designs  manufactures and sells customised rigid inflatable boats rib primarily for the baltic sea market ',\n",
       "       'sales rose 10 pct to 566 mln eur on the back of strong volume and favourable currency effects ',\n",
       "       'kalnapiliotauro grupe  kalnapilistauras group   which is owned by denmark s royal unibrew  raised its market share to 252 percent from 2391 percent  as beer sales for the nine months jumped by 114 percent to 5299 million liters ',\n",
       "       'the costanza light  with an aluminum base and washable shade  comes in white  pistachio  orange  blue and red ',\n",
       "       ' very recommendable  is the nokian z g2 according to the  adac judgement  in the latest summer tyre test of the german automobile association adac ',\n",
       "       'a total of 15000 new citycon shares with a nominal value of eur 135 per share were subscribed between 17 and 23 march 2006 exercising the abc options based on the company s stock option plan 1999 ',\n",
       "       'net interest income increased by 45  to eur 314 mn from eur 300 mn in 2004 ',\n",
       "       'bovine slaughtering and cutting at the kuopio facility will be transferred to the kauhajoki slaughterhouse ',\n",
       "       'sukhraj dulai  of the 2900 block of boni sue court  a culdesac on the city s north side  started the vehicle and went inside his house about 8 am tuesday  leaving the garage door open ',\n",
       "       'in addition  kone signed a twoyear maintenance contract for the escalators ',\n",
       "       'pretax loss totalled eur 499 mn  compared to a loss of eur 154 mn in the corresponding period in 2008 ',\n",
       "       'the commission said the hydrogen peroxide and pbs market was worth about 470 million euros in 2000 ',\n",
       "       'pretax profit rose to eur 1019 mn from eur 1007 in the corresponding period in 2005 ',\n",
       "       'agricultural newspaper maaseudun tulevaisuus had 318000 readers  representing a decrease of 6  ',\n",
       "       'stora enso r shares rose 120 pct to 1184 eur  upmkymmene was also dragged higher  rising 168 pct to 1756 eur and mreal b added 238 pct to 430 eur ',\n",
       "       'according to scanfil s president harri takanen  scanfil s investment activity proceeded according to the strategy on several fronts in 2010 ',\n",
       "       'export declined by 6 percent to 164 million liters ',\n",
       "       'the share capital of alma media corporation business id 19447574 is eur 4476751380 and it is divided into 74612523 shares '],\n",
       "      dtype=object)"
      ]
     },
     "execution_count": 42,
     "metadata": {},
     "output_type": "execute_result"
    }
   ],
   "source": [
    "xSet_test"
   ]
  },
  {
   "cell_type": "code",
   "execution_count": 43,
   "id": "38f7c178-8fd8-4004-b8dd-a0988163a5b9",
   "metadata": {},
   "outputs": [],
   "source": [
    "# Let's test CV on our test data\n",
    "xSet_test_CV = CV.transform(xSet_test)"
   ]
  },
  {
   "cell_type": "code",
   "execution_count": 44,
   "id": "be1904fa-d673-412c-8c07-fc1943fe5189",
   "metadata": {},
   "outputs": [
    {
     "data": {
      "text/plain": [
       "array([2, 2, 2, 1, 0, 2, 1, 2, 2, 2, 2, 2, 1, 2, 2, 1, 1, 2, 2, 0, 2, 1,\n",
       "       1, 2, 2, 2, 2, 2, 1, 1, 0, 2, 2, 2, 2, 2, 0, 2, 2, 2, 1, 2, 2, 2,\n",
       "       2, 2, 1, 1, 2, 1, 2, 2, 0, 2, 1, 1, 0, 2, 1, 2, 0, 2, 1, 2, 2, 2,\n",
       "       2, 0, 2, 2, 2, 2, 1, 1, 0, 2, 2, 2, 2, 2, 2, 2, 2, 2, 1, 1, 2, 1,\n",
       "       2, 2, 2, 1, 2, 2, 2, 2, 1, 2, 2, 1, 0, 2, 1, 2, 0, 2, 2, 2, 2, 2,\n",
       "       0, 2, 2, 2, 2, 2, 2, 1, 0, 1, 1, 2, 2, 1, 2, 1, 0, 2, 1, 2, 0, 2,\n",
       "       1, 2, 2, 0, 2, 2, 1, 2, 2, 1, 2, 2, 2, 0, 1, 2, 2, 1, 2, 2, 0, 1,\n",
       "       1, 2, 1, 2, 2, 2, 2, 2, 2, 2, 2, 2, 1, 2, 2, 2, 2, 2, 2, 1, 2, 2,\n",
       "       2, 2, 2, 2, 2, 2, 2, 2, 2, 2, 2, 2, 2, 2, 0, 1, 1, 1, 0, 2, 2, 2,\n",
       "       2, 2, 2, 2, 2, 2, 2, 1, 2, 2, 1, 2, 2, 1, 2, 1, 2, 2, 0, 2, 2, 2,\n",
       "       1, 1, 2, 0, 2, 2, 1, 1, 2, 2, 2, 2, 2, 2, 0, 2, 2, 0, 2, 2, 1, 2,\n",
       "       1, 1, 2, 1, 2, 1, 1, 2, 1, 2, 1, 2, 2, 2, 0, 2, 1, 1, 2, 1, 1, 2,\n",
       "       2, 2, 2, 2, 1, 0, 2, 2, 0, 2, 2, 1, 2, 2, 2, 2, 1, 1, 2, 2, 2, 1,\n",
       "       1, 2, 1, 2, 1, 0, 2, 2, 2, 2, 2, 1, 1, 2, 0, 2, 2, 1, 1, 1, 2, 2,\n",
       "       2, 1, 1, 2, 2, 2, 2, 1, 2, 2, 1, 2, 1, 1, 1, 2, 2, 2, 1, 2, 2, 2,\n",
       "       2, 2, 2, 2, 2, 1, 2, 2, 1, 2, 2, 2, 1, 2, 2, 2, 1, 2, 2, 2, 2, 2,\n",
       "       1, 2, 2, 2, 1, 2, 2, 0, 1, 2, 2, 2, 1, 2, 1, 0, 2, 1, 2, 2, 2, 2,\n",
       "       2, 2, 1, 0, 1, 1, 1, 1, 2, 2, 2, 2, 1, 1, 2, 1, 2, 2, 2, 2, 1, 1,\n",
       "       0, 2, 2, 2, 1, 2, 2, 2, 1, 2, 2, 2, 1, 1, 1, 1, 1, 2, 1, 2, 1, 0,\n",
       "       2, 0, 2, 1, 2, 1, 1, 2, 2, 1, 2, 2, 0, 2, 2, 2, 1, 2, 2, 2, 1, 2,\n",
       "       2, 2, 0, 0, 1, 2, 1, 1, 2, 2, 2, 2, 2, 2, 2, 0, 2, 2, 2, 2, 2, 0,\n",
       "       1, 2, 2, 2, 2, 2, 1, 1, 2, 2, 2, 1, 1, 2, 1, 2, 1, 2, 1, 1, 2, 2,\n",
       "       2, 1, 1, 2, 2, 1, 2, 2, 1, 1, 0, 2, 2, 2, 1, 2, 2, 2, 2, 2, 1, 2,\n",
       "       1, 0, 1, 2, 2, 1, 2, 1, 2, 1, 2, 2, 2, 1, 2, 1, 2, 1, 0, 2, 1, 2,\n",
       "       0, 2, 2, 2, 1, 2, 2, 2, 2, 1, 2, 2, 2, 2, 2, 0, 2, 0, 2, 2, 1, 2,\n",
       "       2, 2, 1, 0, 2, 2, 2, 2, 0, 2, 2, 2, 1, 2, 2, 2, 2, 2, 2, 2, 1, 1,\n",
       "       1, 2, 2, 2, 0, 2, 2, 2, 2, 2, 1, 2, 2, 1, 0, 1, 2, 2, 2, 2, 2, 2,\n",
       "       0, 1, 2, 2, 2, 1, 2, 2, 2, 1, 2, 2, 2, 2, 2, 1, 0, 2, 2, 2, 2, 2,\n",
       "       0, 2, 2, 2, 2, 2, 1, 1, 2, 2, 2, 1, 2, 2, 2, 2, 1, 2, 2, 2, 0, 1,\n",
       "       2, 2, 2, 1, 2, 0, 2, 1, 1, 2, 2, 2, 2, 2, 2, 1, 1, 2, 1, 2, 2, 2,\n",
       "       2, 2, 2, 2, 2, 1, 1, 2, 1, 2, 2, 2, 1, 0, 2, 1, 1, 2, 2, 1, 2, 2,\n",
       "       2, 2, 1, 2, 2, 2, 2, 1, 2, 2, 2, 2, 2, 2, 2, 1, 2, 2, 2, 1, 0, 2,\n",
       "       0, 2, 2, 0, 2, 2, 2, 2, 1, 2, 2, 1, 1, 2, 2, 2, 0, 2, 1, 2, 2, 2,\n",
       "       2, 2, 1, 2, 2, 2, 0, 2, 2, 2, 2, 1, 2, 2, 2, 1, 1, 2, 1, 0, 1, 1,\n",
       "       1, 2, 2, 2, 2, 2, 0, 2, 2, 2, 0, 0, 2, 2, 1, 2, 1, 1, 2, 1, 1, 2,\n",
       "       2, 2, 2, 1, 1, 2, 1, 2, 0, 2, 2, 1, 2, 2, 2, 2, 2, 2, 0, 0, 2, 2,\n",
       "       1, 1, 2, 2, 2, 2, 1, 2, 1, 2, 2, 2, 2, 1, 2, 2, 1, 2, 1, 2, 2, 2,\n",
       "       2, 2, 0, 2, 2, 2, 2, 2, 2, 2, 2, 0, 2, 1, 1, 2, 2, 2, 2, 2, 2, 2,\n",
       "       2, 0, 1, 2, 2, 1, 2, 2, 2, 2, 1, 1, 2, 2, 1, 2, 2, 1, 2, 2, 2, 1,\n",
       "       2, 2, 2, 0, 2, 2, 1, 2, 2, 2, 2, 2, 1, 1, 2, 2, 2, 2, 1, 2, 2, 2,\n",
       "       2, 2, 2, 0, 2, 2, 2, 0, 2, 1, 2, 2, 0, 1, 1, 1, 2, 1, 2, 1, 2, 1,\n",
       "       2, 1, 2, 2, 2, 1, 2, 1, 2, 0, 2, 2, 0, 1, 0, 1, 2, 2, 2, 2, 0, 0,\n",
       "       2, 1, 1, 1, 2, 0, 0, 1, 2, 2, 2, 1, 2, 2, 0, 2, 2, 2, 1, 1, 2, 2,\n",
       "       2, 2, 2, 2, 2, 1, 1, 2, 2, 2, 1, 2, 2, 1, 0, 1, 1, 2, 0, 2, 1, 2])"
      ]
     },
     "execution_count": 44,
     "metadata": {},
     "output_type": "execute_result"
    }
   ],
   "source": [
    "# prediction for xSet_test_CV\n",
    "\n",
    "ySet_predict = NB.predict(xSet_test_CV)\n",
    "ySet_predict"
   ]
  },
  {
   "cell_type": "code",
   "execution_count": 45,
   "id": "b637d152-341a-4443-a88f-6f34048f2ad3",
   "metadata": {},
   "outputs": [
    {
     "name": "stdout",
     "output_type": "stream",
     "text": [
      "Prediction Accuracy : 69.52479338842976\n"
     ]
    }
   ],
   "source": [
    "# Checking accuracy\n",
    "\n",
    "accuracyScore = accuracy_score(ySet_test,ySet_predict)*100\n",
    "\n",
    "print(\"Prediction Accuracy :\",accuracyScore)"
   ]
  },
  {
   "cell_type": "code",
   "execution_count": null,
   "id": "233a01aa-52ce-4d61-833d-71f30a80db1b",
   "metadata": {},
   "outputs": [],
   "source": []
  },
  {
   "cell_type": "code",
   "execution_count": null,
   "id": "fe72a18b-231b-4826-bf52-14edbb4bc503",
   "metadata": {},
   "outputs": [],
   "source": []
  },
  {
   "cell_type": "code",
   "execution_count": 77,
   "id": "6e6b35e9-5dfd-4724-97af-1acb19b15f39",
   "metadata": {},
   "outputs": [
    {
     "name": "stdin",
     "output_type": "stream",
     "text": [
      "Enter Message:  s\n"
     ]
    },
    {
     "name": "stdout",
     "output_type": "stream",
     "text": [
      "---------------------------MESSAGE-SENT-[CHECK-INBOX]------------------------------\n"
     ]
    }
   ],
   "source": [
    "msg = input(\"Enter Message: \") # to get the input message\n",
    "msgInput = CV.transform([msg]) #\n",
    "predict = NB.predict(msgInput)\n",
    "if(predict[0]==0):\n",
    "    print(\"------------------------MESSAGE-SENT-[CHECK-SPAM-FOLDER]---------------------------\")\n",
    "else:\n",
    "    print(\"---------------------------MESSAGE-SENT-[CHECK-INBOX]------------------------------\")"
   ]
  },
  {
   "cell_type": "code",
   "execution_count": null,
   "id": "2485a0af-566b-4227-952e-5924e5017837",
   "metadata": {},
   "outputs": [],
   "source": []
  },
  {
   "cell_type": "code",
   "execution_count": null,
   "id": "0106f23b-8c70-4205-9b28-de727368d180",
   "metadata": {},
   "outputs": [],
   "source": []
  },
  {
   "cell_type": "code",
   "execution_count": 46,
   "id": "051f61c1-4802-4392-b211-cdda7bdb17d1",
   "metadata": {},
   "outputs": [
    {
     "data": {
      "text/plain": [
       "array([2, 0, 1, ..., 0, 0, 0], dtype=int64)"
      ]
     },
     "execution_count": 46,
     "metadata": {},
     "output_type": "execute_result"
    }
   ],
   "source": [
    "# Splitting x and y\n",
    "\n",
    "X = data['text_clean'].values\n",
    "y = data['Class'].values\n",
    "y"
   ]
  },
  {
   "cell_type": "code",
   "execution_count": 47,
   "id": "4fc25797-c178-4b5b-9b28-93ef1d22a09b",
   "metadata": {},
   "outputs": [
    {
     "data": {
      "text/plain": [
       "numpy.ndarray"
      ]
     },
     "execution_count": 47,
     "metadata": {},
     "output_type": "execute_result"
    }
   ],
   "source": [
    "type(X)"
   ]
  },
  {
   "cell_type": "code",
   "execution_count": 48,
   "id": "909ea9cf-ab98-4c70-a87c-f2063fc7248e",
   "metadata": {},
   "outputs": [],
   "source": [
    "## text preprocessing and feature vectorizer\n",
    "# To extract features from a document of words, we import TfidfVectorizer\n",
    "from sklearn.feature_extraction.text import TfidfVectorizer\n",
    "\n",
    "\n",
    "tf=TfidfVectorizer() ## object creation\n",
    "X=tf.fit_transform(X) ## fitting and transforming the data into vectors\n",
    "    "
   ]
  },
  {
   "cell_type": "code",
   "execution_count": 49,
   "id": "56746e1c-3c58-4fc0-bfcf-f200c4ad12c0",
   "metadata": {},
   "outputs": [
    {
     "data": {
      "text/plain": [
       "(4839, 11220)"
      ]
     },
     "execution_count": 49,
     "metadata": {},
     "output_type": "execute_result"
    }
   ],
   "source": [
    "X.shape"
   ]
  },
  {
   "cell_type": "code",
   "execution_count": 50,
   "id": "21fead50-a8d4-4b85-8b19-03e1186554f6",
   "metadata": {},
   "outputs": [
    {
     "data": {
      "text/plain": [
       "array(['00', '000', '000063', ..., 'zu', 'ænekoski', 'ðl'], dtype=object)"
      ]
     },
     "execution_count": 50,
     "metadata": {},
     "output_type": "execute_result"
    }
   ],
   "source": [
    "## print feature names selected from the raw documents\n",
    "# tf.get_feature_names() \n",
    "tf.get_feature_names_out()"
   ]
  },
  {
   "cell_type": "code",
   "execution_count": 51,
   "id": "3ac6a95c-1d7c-465a-8775-01ddec75136d",
   "metadata": {},
   "outputs": [
    {
     "data": {
      "text/plain": [
       "11220"
      ]
     },
     "execution_count": 51,
     "metadata": {},
     "output_type": "execute_result"
    }
   ],
   "source": [
    "## number of features created\n",
    "len(tf.get_feature_names_out())"
   ]
  },
  {
   "cell_type": "code",
   "execution_count": 52,
   "id": "4adaa43c-9f67-46e1-a210-6aeb261a4c74",
   "metadata": {},
   "outputs": [
    {
     "data": {
      "text/plain": [
       "<4839x11220 sparse matrix of type '<class 'numpy.float64'>'\n",
       "\twith 85377 stored elements in Compressed Sparse Row format>"
      ]
     },
     "execution_count": 52,
     "metadata": {},
     "output_type": "execute_result"
    }
   ],
   "source": [
    "X"
   ]
  },
  {
   "cell_type": "code",
   "execution_count": 53,
   "id": "16dfc8ee-765b-45d4-8077-687f8ec9a26b",
   "metadata": {},
   "outputs": [],
   "source": [
    "## getting the feature vectors\n",
    "X=X.toarray()"
   ]
  },
  {
   "cell_type": "code",
   "execution_count": 54,
   "id": "29350bea-1f7c-4121-86dc-c1b922c54d81",
   "metadata": {},
   "outputs": [
    {
     "data": {
      "text/plain": [
       "array([[0., 0., 0., ..., 0., 0., 0.],\n",
       "       [0., 0., 0., ..., 0., 0., 0.],\n",
       "       [0., 0., 0., ..., 0., 0., 0.],\n",
       "       ...,\n",
       "       [0., 0., 0., ..., 0., 0., 0.],\n",
       "       [0., 0., 0., ..., 0., 0., 0.],\n",
       "       [0., 0., 0., ..., 0., 0., 0.]])"
      ]
     },
     "execution_count": 54,
     "metadata": {},
     "output_type": "execute_result"
    }
   ],
   "source": [
    "X"
   ]
  },
  {
   "cell_type": "code",
   "execution_count": 55,
   "id": "ce999974-47fa-4b57-8124-545eb34a9c4c",
   "metadata": {},
   "outputs": [],
   "source": [
    "## Creating training and testing\n",
    "from sklearn.model_selection import train_test_split\n",
    "X_train,X_test,y_train,y_test=train_test_split(X,y,random_state=6)"
   ]
  },
  {
   "cell_type": "code",
   "execution_count": 56,
   "id": "93c3d483-455e-455d-8686-a89e2d8450bb",
   "metadata": {},
   "outputs": [],
   "source": [
    "## Model creation\n",
    "from sklearn.naive_bayes import BernoulliNB\n",
    "\n",
    "## model object creation\n",
    "nb=BernoulliNB(alpha=0.01)\n",
    "\n",
    "## fitting the model\n",
    "nb.fit(X_train,y_train)\n",
    "\n",
    "## getting the prediction\n",
    "y_hat=nb.predict(X_test)"
   ]
  },
  {
   "cell_type": "code",
   "execution_count": 57,
   "id": "46f5ec32-e3fb-4b57-b664-24cd64ba360d",
   "metadata": {},
   "outputs": [
    {
     "data": {
      "text/plain": [
       "array([1, 1, 2, ..., 1, 2, 2], dtype=int64)"
      ]
     },
     "execution_count": 57,
     "metadata": {},
     "output_type": "execute_result"
    }
   ],
   "source": [
    "y_hat"
   ]
  },
  {
   "cell_type": "code",
   "execution_count": 58,
   "id": "54d98a84-7ad1-4d44-8838-b27e42344d05",
   "metadata": {},
   "outputs": [],
   "source": [
    "## Evaluating the model\n",
    "from sklearn.metrics import classification_report,confusion_matrix"
   ]
  },
  {
   "cell_type": "code",
   "execution_count": 61,
   "id": "bf34a46d-da9d-4a14-b674-21656b42480a",
   "metadata": {},
   "outputs": [
    {
     "name": "stdout",
     "output_type": "stream",
     "text": [
      "0.7074380165289256\n"
     ]
    }
   ],
   "source": [
    "print(accuracy_score(y_test,y_hat))"
   ]
  },
  {
   "cell_type": "code",
   "execution_count": 59,
   "id": "2be4cf73-47fc-43fe-9a46-792cde8072fb",
   "metadata": {},
   "outputs": [
    {
     "name": "stdout",
     "output_type": "stream",
     "text": [
      "              precision    recall  f1-score   support\n",
      "\n",
      "           0       0.52      0.64      0.57       165\n",
      "           1       0.59      0.54      0.56       326\n",
      "           2       0.81      0.80      0.81       719\n",
      "\n",
      "    accuracy                           0.71      1210\n",
      "   macro avg       0.64      0.66      0.65      1210\n",
      "weighted avg       0.71      0.71      0.71      1210\n",
      "\n"
     ]
    }
   ],
   "source": [
    "print(classification_report(y_test,y_hat))"
   ]
  },
  {
   "cell_type": "code",
   "execution_count": 60,
   "id": "71469340-7a76-45a2-8e71-3061c27f43b5",
   "metadata": {},
   "outputs": [
    {
     "data": {
      "text/html": [
       "<div>\n",
       "<style scoped>\n",
       "    .dataframe tbody tr th:only-of-type {\n",
       "        vertical-align: middle;\n",
       "    }\n",
       "\n",
       "    .dataframe tbody tr th {\n",
       "        vertical-align: top;\n",
       "    }\n",
       "\n",
       "    .dataframe thead th {\n",
       "        text-align: right;\n",
       "    }\n",
       "</style>\n",
       "<table border=\"1\" class=\"dataframe\">\n",
       "  <thead>\n",
       "    <tr style=\"text-align: right;\">\n",
       "      <th>col_0</th>\n",
       "      <th>0</th>\n",
       "      <th>1</th>\n",
       "      <th>2</th>\n",
       "    </tr>\n",
       "    <tr>\n",
       "      <th>row_0</th>\n",
       "      <th></th>\n",
       "      <th></th>\n",
       "      <th></th>\n",
       "    </tr>\n",
       "  </thead>\n",
       "  <tbody>\n",
       "    <tr>\n",
       "      <th>0</th>\n",
       "      <td>105</td>\n",
       "      <td>21</td>\n",
       "      <td>39</td>\n",
       "    </tr>\n",
       "    <tr>\n",
       "      <th>1</th>\n",
       "      <td>54</td>\n",
       "      <td>175</td>\n",
       "      <td>97</td>\n",
       "    </tr>\n",
       "    <tr>\n",
       "      <th>2</th>\n",
       "      <td>44</td>\n",
       "      <td>99</td>\n",
       "      <td>576</td>\n",
       "    </tr>\n",
       "  </tbody>\n",
       "</table>\n",
       "</div>"
      ],
      "text/plain": [
       "col_0    0    1    2\n",
       "row_0               \n",
       "0      105   21   39\n",
       "1       54  175   97\n",
       "2       44   99  576"
      ]
     },
     "execution_count": 60,
     "metadata": {},
     "output_type": "execute_result"
    }
   ],
   "source": [
    "## confusion matrix\n",
    "pd.crosstab(y_test,y_hat)"
   ]
  },
  {
   "cell_type": "code",
   "execution_count": null,
   "id": "a75646a3-16b4-4328-b366-08e84c10036f",
   "metadata": {},
   "outputs": [],
   "source": []
  },
  {
   "cell_type": "markdown",
   "id": "7f758342-9680-4e30-80c2-f98396505e3e",
   "metadata": {},
   "source": [
    "### **Approach and Model Performance**  \n",
    "To achieve this, I used the **Naive Bayes** algorithm, which performed exceptionally well for this classification task.  \n",
    "- **Accuracy**: The model achieved an accuracy score of **74%**, surpassing other algorithms tested.  \n",
    "- **Outcome**: This high accuracy ensures reliable identification of spam emails, enhancing email management and prioritization for business purposes.  \n",
    "\n",
    "---\n",
    "\n",
    "### **Dataset Insights**  \n",
    "- **Total Records**: 4,845 \n",
    "- **Missing Values**: None  \n",
    "- **Duplicate Records**: 6, which were removed to improve model performance.  \n",
    "- **Message Length**:  \n",
    "  - Maximum: 315 characters  \n",
    "  - Minimum: 17 characters  \n",
    "- **Class Distribution**:  \n",
    "  - **Neutral**: 2,872 (59.4%)  \n",
    "  - **Negative**: 1,363 (28.2%)\n",
    "  - **Positive**: 604 (12.5%)\n",
    "\n",
    "---\n",
    "\n",
    "### **Preprocessing Steps**  \n",
    "- Removed duplicate records to enhance the dataset’s quality and improve model accuracy.  \n",
    "- Analyzed the distribution of message lengths and class proportions to better understand the dataset.  \n",
    "\n",
    "---"
   ]
  },
  {
   "cell_type": "code",
   "execution_count": null,
   "id": "56d73409-d94c-4e47-b440-543d9587031e",
   "metadata": {},
   "outputs": [],
   "source": []
  }
 ],
 "metadata": {
  "kernelspec": {
   "display_name": "Python 3 (ipykernel)",
   "language": "python",
   "name": "python3"
  },
  "language_info": {
   "codemirror_mode": {
    "name": "ipython",
    "version": 3
   },
   "file_extension": ".py",
   "mimetype": "text/x-python",
   "name": "python",
   "nbconvert_exporter": "python",
   "pygments_lexer": "ipython3",
   "version": "3.11.7"
  }
 },
 "nbformat": 4,
 "nbformat_minor": 5
}
